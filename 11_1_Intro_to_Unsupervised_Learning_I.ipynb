{
  "nbformat": 4,
  "nbformat_minor": 0,
  "metadata": {
    "colab": {
      "name": "11_1_Intro_to_Unsupervised_Learning_I.ipynb",
      "version": "0.3.2",
      "provenance": [],
      "collapsed_sections": [
        "3cKmWSTZ8uwC",
        "zbwpz0ek8uw2",
        "BYr1vtpd8uw4",
        "0WP7NkCwr0F9",
        "X-1b26KjygnO",
        "rNC8w2kI-3iZ",
        "drKawzm4Snrw"
      ],
      "include_colab_link": true
    },
    "kernelspec": {
      "name": "python3",
      "display_name": "Python 3"
    }
  },
  "cells": [
    {
      "cell_type": "markdown",
      "metadata": {
        "id": "view-in-github",
        "colab_type": "text"
      },
      "source": [
        "[View in Colaboratory](https://colab.research.google.com/github/RayleighKim/M11_Intro_To_Unsuerpvised_Learning/blob/master/11_1_Intro_to_Unsupervised_Learning_I.ipynb)"
      ]
    },
    {
      "metadata": {
        "id": "cVB9pY-v8uv5",
        "colab_type": "text"
      },
      "cell_type": "markdown",
      "source": [
        "# Intro to Unsupervised Learning\n",
        "\n",
        "## Text Retrieval Problem\n",
        "\n",
        "### Your name :     \n",
        "\n",
        "### Data Link :\n",
        "* [DBpedia](https://wiki.dbpedia.org/)\n",
        "* [Dataset](https://media.githubusercontent.com/media/RayleighKim/Example_datasets/master/People_wiki.csv)\n",
        "\n",
        "#### 실습목표 I<br>\n",
        "1. Bag of Words, TF-IDF를 이해한다.\n",
        "2. Scikit-Learn을 이용하여 Retrieval을 할 줄 안다.\n",
        "\n",
        "#### 실습목표 II<br>\n",
        "1. 문제의 구조를 정교화 하기 위해 발전한 과정의 흐름을 안다.\n",
        "---------------\n",
        "Rayleigh Kim @ D:plus\n"
      ]
    },
    {
      "metadata": {
        "id": "GVvCef6A8uv6",
        "colab_type": "code",
        "colab": {}
      },
      "cell_type": "code",
      "source": [
        "'''\n",
        "라이브러리들을 불러오자.\n",
        "'''\n",
        "import numpy as np\n",
        "import pandas as pd\n",
        "'''\n",
        "사이킷런의 라이브러리들을 미리 불러두는 것도 좋지만,\n",
        "세부적인 메쏘드가 너무 많아서 필요한것만 불러오도록 할 것이다.\n",
        "'''\n"
      ],
      "execution_count": 0,
      "outputs": []
    },
    {
      "metadata": {
        "id": "3cKmWSTZ8uwC",
        "colab_type": "text"
      },
      "cell_type": "markdown",
      "source": [
        "## Load and Prepare the data"
      ]
    },
    {
      "metadata": {
        "id": "0m2zvRmdZNbn",
        "colab_type": "text"
      },
      "cell_type": "markdown",
      "source": [
        "아래와 같은 방식으로, 깃에 올려둔 데이터 파일을 불러올 수도 있다.\n",
        "\n",
        "단 용량이 꽤 큰 파일을 사용했더니 Github으로 부터 '너 돈 내고 쓰지 않을래..?' 라는 메일이 왔다!\n",
        "\n",
        "그러니, 실습시에는 파일 업로드를 이용하자"
      ]
    },
    {
      "metadata": {
        "id": "Vqr7zY5r8uwC",
        "colab_type": "code",
        "colab": {}
      },
      "cell_type": "code",
      "source": [
        "# data_path = 'https://media.githubusercontent.com/media/RayleighKim/Example_datasets/master/People_wiki.csv'\n",
        "# people = pd.read_csv(data_path)"
      ],
      "execution_count": 0,
      "outputs": []
    },
    {
      "metadata": {
        "id": "c8y_kXIBZ4B3",
        "colab_type": "code",
        "colab": {}
      },
      "cell_type": "code",
      "source": [
        "# '''\n",
        "# People_wiki.csv 를 업로드 하려하면 끔찍하게 느리다.\n",
        "# '''\n",
        "# from google.colab import files\n",
        "# uploaded = files.upload()"
      ],
      "execution_count": 0,
      "outputs": []
    },
    {
      "metadata": {
        "id": "8IvrXcEzXHPN",
        "colab_type": "code",
        "colab": {}
      },
      "cell_type": "code",
      "source": [
        "from google.colab import drive\n",
        "drive.mount('./gdrive')"
      ],
      "execution_count": 0,
      "outputs": []
    },
    {
      "metadata": {
        "id": "dfsWSYZyX726",
        "colab_type": "code",
        "colab": {}
      },
      "cell_type": "code",
      "source": [
        "cd gdrive/My Drive/ML_first"
      ],
      "execution_count": 0,
      "outputs": []
    },
    {
      "metadata": {
        "id": "_xLBLA5sbihW",
        "colab_type": "code",
        "colab": {}
      },
      "cell_type": "code",
      "source": [
        "ls"
      ],
      "execution_count": 0,
      "outputs": []
    },
    {
      "metadata": {
        "id": "HV6sLvAUbr31",
        "colab_type": "code",
        "colab": {}
      },
      "cell_type": "code",
      "source": [
        "import zipfile as zf\n",
        "zf = zf.ZipFile('People_wiki.zip')\n",
        "people = pd.read_csv(zf.open('People_wiki.csv'))"
      ],
      "execution_count": 0,
      "outputs": []
    },
    {
      "metadata": {
        "id": "p-x3msyAq6-z",
        "colab_type": "code",
        "colab": {}
      },
      "cell_type": "code",
      "source": [
        "len(people)"
      ],
      "execution_count": 0,
      "outputs": []
    },
    {
      "metadata": {
        "id": "Wzs1nS348uwE",
        "colab_type": "code",
        "colab": {}
      },
      "cell_type": "code",
      "source": [
        "people.head()"
      ],
      "execution_count": 0,
      "outputs": []
    },
    {
      "metadata": {
        "id": "aThY-j3xpUWl",
        "colab_type": "text"
      },
      "cell_type": "markdown",
      "source": [
        "우리는 URL은 안쓸꺼니까! 날려버리자.\n",
        "\n",
        "왜인지 URI로 되어 있다."
      ]
    },
    {
      "metadata": {
        "id": "wCDUCtRGpW6d",
        "colab_type": "code",
        "colab": {}
      },
      "cell_type": "code",
      "source": [
        "if 'URI' in list(people):\n",
        "    people.drop(labels=['URI'], axis=1, inplace=True)\n",
        "people.head()"
      ],
      "execution_count": 0,
      "outputs": []
    },
    {
      "metadata": {
        "id": "zbwpz0ek8uw2",
        "colab_type": "text"
      },
      "cell_type": "markdown",
      "source": [
        "## Explore the dataset\n",
        "\n",
        "엘튼 존! 조지 클루니!"
      ]
    },
    {
      "metadata": {
        "id": "CurBFRz88uw2",
        "colab_type": "code",
        "colab": {}
      },
      "cell_type": "code",
      "source": [
        "elton = people.loc[people['name']=='Elton John']\n",
        "elton"
      ],
      "execution_count": 0,
      "outputs": []
    },
    {
      "metadata": {
        "id": "AvfKDw1q-Z9Z",
        "colab_type": "code",
        "colab": {}
      },
      "cell_type": "code",
      "source": [
        "list(elton['text'])"
      ],
      "execution_count": 0,
      "outputs": []
    },
    {
      "metadata": {
        "id": "M001k8fU-gKE",
        "colab_type": "code",
        "colab": {}
      },
      "cell_type": "code",
      "source": [
        "george = people.loc[people['name'].str.contains('George')]\n",
        "george['name']"
      ],
      "execution_count": 0,
      "outputs": []
    },
    {
      "metadata": {
        "id": "f5SHUO2b-oxE",
        "colab_type": "code",
        "colab": {}
      },
      "cell_type": "code",
      "source": [
        "clooney = george.loc[george['name'].str.contains('Clooney')]\n",
        "clooney"
      ],
      "execution_count": 0,
      "outputs": []
    },
    {
      "metadata": {
        "id": "5-o9QRAJ_3-3",
        "colab_type": "code",
        "colab": {}
      },
      "cell_type": "code",
      "source": [
        "list(clooney['text'])"
      ],
      "execution_count": 0,
      "outputs": []
    },
    {
      "metadata": {
        "id": "BYr1vtpd8uw4",
        "colab_type": "text"
      },
      "cell_type": "markdown",
      "source": [
        "## Bag of Words Simple ver\n",
        "\n",
        "텍스트 문서들은 있다.<br>\n",
        "\n",
        "텍스트들을 단어 등장여부를 이용한 binary vector로 만들자."
      ]
    },
    {
      "metadata": {
        "id": "C0NSQfKKEvTY",
        "colab_type": "code",
        "colab": {}
      },
      "cell_type": "code",
      "source": [
        "'''\n",
        "Library Loading\n",
        "'''\n",
        "from collections import Counter, OrderedDict\n",
        "import sklearn.feature_extraction.text as text"
      ],
      "execution_count": 0,
      "outputs": []
    },
    {
      "metadata": {
        "id": "MyC6Zw6kbChy",
        "colab_type": "text"
      },
      "cell_type": "markdown",
      "source": [
        "### 문장 하나를 사전으로 만들어 보자."
      ]
    },
    {
      "metadata": {
        "id": "htO9pyBmbSk-",
        "colab_type": "code",
        "colab": {}
      },
      "cell_type": "code",
      "source": [
        "def Ordered_words(id = 0):\n",
        "    sample_string = people['text'][id]\n",
        "    string_splitted = sample_string.split()\n",
        "    word_dict = dict(Counter(string_splitted))\n",
        "    word_dict_list = [(k,v) for k, v in word_dict.items()]\n",
        "    word_dict_list.sort(key = lambda x:x[1], reverse=True)\n",
        "    print('name : ',people['name'][id])\n",
        "    print(sample_string)\n",
        "    print(word_dict_list)\n",
        "    "
      ],
      "execution_count": 0,
      "outputs": []
    },
    {
      "metadata": {
        "id": "7VdkxbZwjp_5",
        "colab_type": "code",
        "colab": {}
      },
      "cell_type": "code",
      "source": [
        "'''\n",
        "Ordered_words(n)\n",
        "n 을 바꾸어 가며 확인해보자.\n",
        "'''\n",
        "\n",
        "Ordered_words(3)"
      ],
      "execution_count": 0,
      "outputs": []
    },
    {
      "metadata": {
        "id": "FQSEn4HoksYK",
        "colab_type": "text"
      },
      "cell_type": "markdown",
      "source": [
        "### 모든 텍스트를 이용하여, 존재하는 단어들의 사전을 만들어 보자!"
      ]
    },
    {
      "metadata": {
        "id": "56ULjyIjGV6q",
        "colab_type": "code",
        "colab": {}
      },
      "cell_type": "code",
      "source": [
        "word_bin = text.CountVectorizer(binary = True)"
      ],
      "execution_count": 0,
      "outputs": []
    },
    {
      "metadata": {
        "id": "Gk7TaVhouv-V",
        "colab_type": "code",
        "colab": {}
      },
      "cell_type": "code",
      "source": [
        "X_simple = word_bin.fit_transform(people['text'])"
      ],
      "execution_count": 0,
      "outputs": []
    },
    {
      "metadata": {
        "id": "wCDF4JDdKTaw",
        "colab_type": "code",
        "colab": {}
      },
      "cell_type": "code",
      "source": [
        "type(X_simple)"
      ],
      "execution_count": 0,
      "outputs": []
    },
    {
      "metadata": {
        "id": "guQ9cbn6LxGP",
        "colab_type": "code",
        "colab": {}
      },
      "cell_type": "code",
      "source": [
        "print(len(word_bin.vocabulary_))\n",
        "word_bin.vocabulary_"
      ],
      "execution_count": 0,
      "outputs": []
    },
    {
      "metadata": {
        "id": "M6NKPUn-obi1",
        "colab_type": "text"
      },
      "cell_type": "markdown",
      "source": [
        "### 문장 하나를 벡터로 만들어 보자!\n",
        "\n",
        " 모든 문장을 이용하여 단어 사전을 만들어 두었다!\n",
        " \n",
        " 이제, 문장 하나를 단어 존재 여부를 이용하여 벡터로 만들 수 있다."
      ]
    },
    {
      "metadata": {
        "id": "pIqN6ZM-Kena",
        "colab_type": "code",
        "colab": {}
      },
      "cell_type": "code",
      "source": [
        "def simple_BOW_vector(id=0):\n",
        "    sample_array = word_bin.transform([people['text'][id]]).toarray()[0]\n",
        "    print('array 사이즈 : ', len(sample_array))\n",
        "    print('등장한 단어의 개수 : ', sum(sample_array==1))\n",
        "    print(sample_array)"
      ],
      "execution_count": 0,
      "outputs": []
    },
    {
      "metadata": {
        "id": "W3SJMkYsoQOE",
        "colab_type": "code",
        "colab": {}
      },
      "cell_type": "code",
      "source": [
        "simple_BOW_vector(4)"
      ],
      "execution_count": 0,
      "outputs": []
    },
    {
      "metadata": {
        "id": "fl5MriiYnw-C",
        "colab_type": "text"
      },
      "cell_type": "markdown",
      "source": [
        "### 문장들을 벡터로 만들어서 데이터 프레임에 붙일 수 있을까? -> 붙이지 말자!\n",
        "\n",
        "정말 궁금한 사람들은 아래의 코드를 실행해보자.\n",
        "\n",
        "메모리가 터지는 것을 관찰할 수 있다!\n",
        "\n",
        "```\n",
        "word_bin.transform(people['text'].toarray())\n",
        "```\n",
        "\n",
        "위에서 아래와 같은 코드를 사용했었다.\n",
        "\n",
        "```\n",
        "X_simple = word_bin.fit_transform(people['text'])\n",
        "```\n",
        "\n",
        "X_simple는 scipy.sparse.csr.csr_matrix 라고 위에서 확인했었는데,  사실 X가 우리가 원하는 그 메트릭스다!\n",
        "\n",
        "다만, 사이즈가 54만이 넘어가는 벡터에서 고작 단어 몇백개의 위치만 1이 되는 array를 그대로 생성하는 것은 메모리가 괴로워하기 때문에, 우리는 잘 압축된 메트릭스를 대신하여 사용한다.\n",
        "\n",
        "아래의 셀을 실행해보면 어떻게 된 것인지 감을 잡을 수 있다!"
      ]
    },
    {
      "metadata": {
        "id": "zCZHjdEyvh7q",
        "colab_type": "code",
        "colab": {}
      },
      "cell_type": "code",
      "source": [
        "people.head(1)"
      ],
      "execution_count": 0,
      "outputs": []
    },
    {
      "metadata": {
        "id": "4y4JtXl8vtIR",
        "colab_type": "code",
        "colab": {}
      },
      "cell_type": "code",
      "source": [
        "simple_BOW_vector(0)"
      ],
      "execution_count": 0,
      "outputs": []
    },
    {
      "metadata": {
        "id": "bnOcO2yMvzNF",
        "colab_type": "code",
        "colab": {}
      },
      "cell_type": "code",
      "source": [
        "X_simple[0,:].todense()"
      ],
      "execution_count": 0,
      "outputs": []
    },
    {
      "metadata": {
        "id": "KHkibK31wADU",
        "colab_type": "code",
        "colab": {}
      },
      "cell_type": "code",
      "source": [
        "X_simple[0,:].todense().sum()"
      ],
      "execution_count": 0,
      "outputs": []
    },
    {
      "metadata": {
        "id": "Gnfni16M3q-g",
        "colab_type": "code",
        "colab": {}
      },
      "cell_type": "code",
      "source": [
        "print(X_simple[0,:])"
      ],
      "execution_count": 0,
      "outputs": []
    },
    {
      "metadata": {
        "id": "0WP7NkCwr0F9",
        "colab_type": "text"
      },
      "cell_type": "markdown",
      "source": [
        "### 우리는 sparse_matrix를 이용하여 그대로 nearest neighbors 도 해보고 클러스터링도 해볼 것이다!\n",
        "\n",
        "NearestNeighbor search를 해보자!"
      ]
    },
    {
      "metadata": {
        "id": "bMJE0UaTtkY8",
        "colab_type": "code",
        "colab": {}
      },
      "cell_type": "code",
      "source": [
        "from sklearn.neighbors import NearestNeighbors"
      ],
      "execution_count": 0,
      "outputs": []
    },
    {
      "metadata": {
        "id": "oygdzvtsty8i",
        "colab_type": "code",
        "colab": {}
      },
      "cell_type": "code",
      "source": [
        "nbrs_simple = NearestNeighbors(n_neighbors=6, metric='cosine').fit(X_simple)"
      ],
      "execution_count": 0,
      "outputs": []
    },
    {
      "metadata": {
        "id": "dOBawaqjzzFI",
        "colab_type": "code",
        "colab": {}
      },
      "cell_type": "code",
      "source": [
        "def nearest_search(name, nbrs = nbrs_simple, X = X_simple):\n",
        "    queried_id = people.index[people['name']==name]\n",
        "    queried_array = X[queried_id, :]\n",
        "    distances, indices = nbrs.kneighbors(queried_array)\n",
        "    temp_df = people.loc[indices.tolist()[0]]\n",
        "    temp_df['rank'] = [0,1,2,3,4,5]\n",
        "    distances = [ '{:.6f}'.format(elem) for elem in distances.tolist()[0]]\n",
        "    temp_df['distances'] = distances\n",
        "#     print(temp_df)\n",
        "    return(temp_df)\n",
        "    "
      ],
      "execution_count": 0,
      "outputs": []
    },
    {
      "metadata": {
        "id": "-nTouGZd5Ta1",
        "colab_type": "code",
        "colab": {}
      },
      "cell_type": "code",
      "source": [
        "nearest_search(name = 'Angelina Jolie', nbrs = nbrs_simple, X = X_simple).head(3)"
      ],
      "execution_count": 0,
      "outputs": []
    },
    {
      "metadata": {
        "id": "jqsXPBtK17Nn",
        "colab_type": "code",
        "colab": {}
      },
      "cell_type": "code",
      "source": [
        "nearest_search(name = 'Victoria Beckham', nbrs = nbrs_simple, X = X_simple).head(3)"
      ],
      "execution_count": 0,
      "outputs": []
    },
    {
      "metadata": {
        "id": "X-1b26KjygnO",
        "colab_type": "text"
      },
      "cell_type": "markdown",
      "source": [
        "## Bag of Words Count ver\n",
        "\n",
        "이제는 Bag of Words를 단어 수로 구현해보자!"
      ]
    },
    {
      "metadata": {
        "id": "oRMkE3HmyY4_",
        "colab_type": "code",
        "colab": {}
      },
      "cell_type": "code",
      "source": [
        "'''\n",
        "Library Loading\n",
        "'''\n",
        "\n",
        "import sklearn.feature_extraction.text as text"
      ],
      "execution_count": 0,
      "outputs": []
    },
    {
      "metadata": {
        "id": "Do3loJ_v7H6S",
        "colab_type": "text"
      },
      "cell_type": "markdown",
      "source": [
        "위에서는 아래와 같은 코드를 사용했다\n",
        "```\n",
        "word_bin = text.CountVectorizer(binary = True)\n",
        "```\n",
        "\n",
        "binary = True 가 되면, 단어의 등장 여부를 가지고 vector를 만들지만,\n",
        "\n",
        "binary = False로 해두면, 단어의 등장 빈도를 이용하여 vector를 만든다."
      ]
    },
    {
      "metadata": {
        "id": "eBXlA7wlyOgn",
        "colab_type": "code",
        "colab": {}
      },
      "cell_type": "code",
      "source": [
        "word_count = text.CountVectorizer(binary = False)\n",
        "X_count = word_count.fit_transform(people['text'])"
      ],
      "execution_count": 0,
      "outputs": []
    },
    {
      "metadata": {
        "id": "8N_iAO9vyLr5",
        "colab_type": "code",
        "colab": {}
      },
      "cell_type": "code",
      "source": [
        "people.head(1)"
      ],
      "execution_count": 0,
      "outputs": []
    },
    {
      "metadata": {
        "id": "YxX935Ck7zJS",
        "colab_type": "code",
        "colab": {}
      },
      "cell_type": "code",
      "source": [
        "simple_BOW_vector(0)"
      ],
      "execution_count": 0,
      "outputs": []
    },
    {
      "metadata": {
        "id": "nvevBbjo71ff",
        "colab_type": "code",
        "colab": {}
      },
      "cell_type": "code",
      "source": [
        "X_count[0,:].todense()"
      ],
      "execution_count": 0,
      "outputs": []
    },
    {
      "metadata": {
        "id": "PvGf4GId75hM",
        "colab_type": "code",
        "colab": {}
      },
      "cell_type": "code",
      "source": [
        "print('총 단어 등장 수 :', X_count[0,:].todense().sum())\n",
        "print('등장한 단어의 수 :', X_simple[0,:].todense().sum())"
      ],
      "execution_count": 0,
      "outputs": []
    },
    {
      "metadata": {
        "id": "YyGrIqTy8OtH",
        "colab_type": "text"
      },
      "cell_type": "markdown",
      "source": [
        "Bag of Words 가  등장여부에서 단어횟수로 더 정교화 되었다!\n",
        "\n",
        "Nearest Neighbor search해보자!"
      ]
    },
    {
      "metadata": {
        "id": "JU145jfH86y2",
        "colab_type": "code",
        "colab": {}
      },
      "cell_type": "code",
      "source": [
        "from sklearn.neighbors import NearestNeighbors"
      ],
      "execution_count": 0,
      "outputs": []
    },
    {
      "metadata": {
        "id": "_-Uat0Xj8-bb",
        "colab_type": "code",
        "colab": {}
      },
      "cell_type": "code",
      "source": [
        "nbrs_count = NearestNeighbors(n_neighbors=6, metric='cosine').fit(X_count)"
      ],
      "execution_count": 0,
      "outputs": []
    },
    {
      "metadata": {
        "id": "AbD38aaK9GRF",
        "colab_type": "code",
        "colab": {}
      },
      "cell_type": "code",
      "source": [
        "nearest_search(name='Angelina Jolie', nbrs = nbrs_count, X = X_count)"
      ],
      "execution_count": 0,
      "outputs": []
    },
    {
      "metadata": {
        "id": "e-1Fqnon9MUd",
        "colab_type": "code",
        "colab": {}
      },
      "cell_type": "code",
      "source": [
        "nearest_search(name='Angelina Jolie', nbrs = nbrs_simple, X = X_simple)"
      ],
      "execution_count": 0,
      "outputs": []
    },
    {
      "metadata": {
        "id": "mC9gVq2Q9TJJ",
        "colab_type": "code",
        "colab": {}
      },
      "cell_type": "code",
      "source": [
        "nearest_search(name='Victoria Beckham', nbrs = nbrs_count, X = X_count)"
      ],
      "execution_count": 0,
      "outputs": []
    },
    {
      "metadata": {
        "id": "HIrwo9MS9oRi",
        "colab_type": "code",
        "colab": {}
      },
      "cell_type": "code",
      "source": [
        "nearest_search(name='Victoria Beckham', nbrs = nbrs_simple, X = X_simple)"
      ],
      "execution_count": 0,
      "outputs": []
    },
    {
      "metadata": {
        "id": "rNC8w2kI-3iZ",
        "colab_type": "text"
      },
      "cell_type": "markdown",
      "source": [
        "## 이제는 TF-IDF 다!\n",
        "\n",
        "다시 한 번 TF와 IDF를 복습하고 오자"
      ]
    },
    {
      "metadata": {
        "id": "TPkA3-PR_Oei",
        "colab_type": "code",
        "colab": {}
      },
      "cell_type": "code",
      "source": [
        "'''\n",
        "Library Loading\n",
        "'''\n",
        "\n",
        "import sklearn.feature_extraction.text as text"
      ],
      "execution_count": 0,
      "outputs": []
    },
    {
      "metadata": {
        "id": "X-8eJIA_Oj3Q",
        "colab_type": "text"
      },
      "cell_type": "markdown",
      "source": [
        "이 [문서](https://stackoverflow.com/questions/27697766/understanding-min-df-and-max-df-in-scikit-countvectorizer) 를 참고하면 max_df와 min_df 에 대한 이해를 할 수 있다"
      ]
    },
    {
      "metadata": {
        "id": "lO_lAUTg_U22",
        "colab_type": "code",
        "colab": {}
      },
      "cell_type": "code",
      "source": [
        "word_tfidf = text.TfidfVectorizer(max_df = 0.5)\n",
        "X_tfidf = word_tfidf.fit_transform(people['text'])"
      ],
      "execution_count": 0,
      "outputs": []
    },
    {
      "metadata": {
        "id": "2sOhRpXXKGc7",
        "colab_type": "text"
      },
      "cell_type": "markdown",
      "source": [
        "잠시 idf 를 감상하자!"
      ]
    },
    {
      "metadata": {
        "id": "5yzWo1UxDEUX",
        "colab_type": "code",
        "colab": {}
      },
      "cell_type": "code",
      "source": [
        "idf = word_tfidf.idf_"
      ],
      "execution_count": 0,
      "outputs": []
    },
    {
      "metadata": {
        "id": "ycIeF-aeJO51",
        "colab_type": "code",
        "colab": {}
      },
      "cell_type": "code",
      "source": [
        "'''\n",
        "단어 인덱스를 보자\n",
        "'''\n",
        "print(len(word_tfidf.vocabulary_))\n",
        "word_tfidf.vocabulary_\n"
      ],
      "execution_count": 0,
      "outputs": []
    },
    {
      "metadata": {
        "id": "qdi7c2ZFIUce",
        "colab_type": "code",
        "colab": {}
      },
      "cell_type": "code",
      "source": [
        "'''\n",
        "scikit learn은 기본적으로 idf에 1을 더해두었다.\n",
        "max_df = 0.5 를 둘 경우, 총 문서의 50% 이상의 문서들에 출현하는 단어는\n",
        "다 제외해 버린다!\n",
        "\n",
        "당연히 the는 에러가 남\n",
        "'''\n",
        "id = word_tfidf.vocabulary_['the']\n",
        "idf[id]"
      ],
      "execution_count": 0,
      "outputs": []
    },
    {
      "metadata": {
        "id": "EAIb5yV-GYFL",
        "colab_type": "code",
        "colab": {}
      },
      "cell_type": "code",
      "source": [
        "id = word_tfidf.vocabulary_['george']\n",
        "idf[id]"
      ],
      "execution_count": 0,
      "outputs": []
    },
    {
      "metadata": {
        "id": "_7MbCKwyJy_A",
        "colab_type": "code",
        "colab": {}
      },
      "cell_type": "code",
      "source": [
        "id = word_tfidf.vocabulary_['metal']\n",
        "idf[id]"
      ],
      "execution_count": 0,
      "outputs": []
    },
    {
      "metadata": {
        "id": "ijsa6aLpK1b6",
        "colab_type": "text"
      },
      "cell_type": "markdown",
      "source": [
        "0번 텍스트에 대해서 서로의 차이점을 다시 확인해보자.\n",
        "\n",
        "* Bag of Words, Binary ver\n",
        "* Bag of Words, Count ver\n",
        "* TF-IDF"
      ]
    },
    {
      "metadata": {
        "id": "wNgSJwiyKOfW",
        "colab_type": "code",
        "colab": {}
      },
      "cell_type": "code",
      "source": [
        "print(X_simple[0,:])\n"
      ],
      "execution_count": 0,
      "outputs": []
    },
    {
      "metadata": {
        "id": "Pxsy_IyzC6Ee",
        "colab_type": "code",
        "colab": {}
      },
      "cell_type": "code",
      "source": [
        "print(X_count[0, :])"
      ],
      "execution_count": 0,
      "outputs": []
    },
    {
      "metadata": {
        "id": "em3xL3HUKqld",
        "colab_type": "code",
        "colab": {}
      },
      "cell_type": "code",
      "source": [
        "print(X_tfidf[0, :])"
      ],
      "execution_count": 0,
      "outputs": []
    },
    {
      "metadata": {
        "id": "RF6AafyYKsH2",
        "colab_type": "text"
      },
      "cell_type": "markdown",
      "source": [
        "이제, tf-idf를 이용하여 nearest neighbor search 해보자!"
      ]
    },
    {
      "metadata": {
        "id": "ioWkh5MgLGRb",
        "colab_type": "code",
        "colab": {}
      },
      "cell_type": "code",
      "source": [
        "from sklearn.neighbors import NearestNeighbors"
      ],
      "execution_count": 0,
      "outputs": []
    },
    {
      "metadata": {
        "id": "SNpxjqg7LI44",
        "colab_type": "code",
        "colab": {}
      },
      "cell_type": "code",
      "source": [
        "nbrs_tfidf = NearestNeighbors(n_neighbors=6, metric='cosine').fit(X_tfidf)"
      ],
      "execution_count": 0,
      "outputs": []
    },
    {
      "metadata": {
        "id": "_3xsyNuGMJGA",
        "colab_type": "text"
      },
      "cell_type": "markdown",
      "source": [
        "안젤리나 졸리 비교 최종판!"
      ]
    },
    {
      "metadata": {
        "id": "K5RaTmiMLzfe",
        "colab_type": "code",
        "colab": {}
      },
      "cell_type": "code",
      "source": [
        "nearest_search(name='Angelina Jolie', nbrs = nbrs_tfidf, X = X_tfidf)"
      ],
      "execution_count": 0,
      "outputs": []
    },
    {
      "metadata": {
        "id": "TE5brf6lL4Vc",
        "colab_type": "code",
        "colab": {}
      },
      "cell_type": "code",
      "source": [
        "nearest_search(name='Angelina Jolie', nbrs = nbrs_count, X = X_count)"
      ],
      "execution_count": 0,
      "outputs": []
    },
    {
      "metadata": {
        "id": "HBcdGE1nMB49",
        "colab_type": "code",
        "colab": {}
      },
      "cell_type": "code",
      "source": [
        "nearest_search(name='Angelina Jolie', nbrs = nbrs_simple, X = X_simple)"
      ],
      "execution_count": 0,
      "outputs": []
    },
    {
      "metadata": {
        "id": "GAceoYLGMFUW",
        "colab_type": "text"
      },
      "cell_type": "markdown",
      "source": [
        "빅토리아 베컴 비교 최종판!"
      ]
    },
    {
      "metadata": {
        "id": "7wuOt-0NMNQQ",
        "colab_type": "code",
        "colab": {}
      },
      "cell_type": "code",
      "source": [
        "nearest_search(name='Victoria Beckham', nbrs = nbrs_tfidf, X = X_tfidf)"
      ],
      "execution_count": 0,
      "outputs": []
    },
    {
      "metadata": {
        "id": "zGSwtFzaMTn7",
        "colab_type": "code",
        "colab": {}
      },
      "cell_type": "code",
      "source": [
        "nearest_search(name='Victoria Beckham', nbrs = nbrs_count, X = X_count)"
      ],
      "execution_count": 0,
      "outputs": []
    },
    {
      "metadata": {
        "id": "346MyFC8MYku",
        "colab_type": "code",
        "colab": {}
      },
      "cell_type": "code",
      "source": [
        "nearest_search(name='Victoria Beckham', nbrs = nbrs_simple, X = X_simple)"
      ],
      "execution_count": 0,
      "outputs": []
    },
    {
      "metadata": {
        "id": "1whxoOspMawo",
        "colab_type": "code",
        "colab": {}
      },
      "cell_type": "code",
      "source": [
        ""
      ],
      "execution_count": 0,
      "outputs": []
    },
    {
      "metadata": {
        "id": "drKawzm4Snrw",
        "colab_type": "text"
      },
      "cell_type": "markdown",
      "source": [
        "## 클러스터링도 해봐야지!"
      ]
    },
    {
      "metadata": {
        "id": "-s8YxxmqSqj3",
        "colab_type": "text"
      },
      "cell_type": "markdown",
      "source": [
        "DBSCAN을 해보자!\n",
        "\n",
        "그리고, 감상하자.\n",
        "\n",
        "메모리가 터지는 것을!"
      ]
    },
    {
      "metadata": {
        "id": "MVcLnCYlTidn",
        "colab_type": "code",
        "colab": {}
      },
      "cell_type": "code",
      "source": [
        "'''\n",
        "라이브러리 로딩\n",
        "'''\n",
        "\n",
        "from sklearn.cluster import DBSCAN\n",
        "from sklearn import metrics"
      ],
      "execution_count": 0,
      "outputs": []
    },
    {
      "metadata": {
        "id": "xmwiNEwVTps7",
        "colab_type": "code",
        "colab": {}
      },
      "cell_type": "code",
      "source": [
        "dbscan_simple = DBSCAN(eps = 0.4, min_samples = 4, metric = 'cosine').fit(X_simple)"
      ],
      "execution_count": 0,
      "outputs": []
    },
    {
      "metadata": {
        "id": "F63056n3UJoT",
        "colab_type": "code",
        "colab": {}
      },
      "cell_type": "code",
      "source": [
        "dbscan_simple.labels_"
      ],
      "execution_count": 0,
      "outputs": []
    }
  ]
}