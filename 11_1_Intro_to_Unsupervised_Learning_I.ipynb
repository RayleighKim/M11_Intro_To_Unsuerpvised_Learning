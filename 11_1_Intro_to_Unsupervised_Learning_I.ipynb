{
  "nbformat": 4,
  "nbformat_minor": 0,
  "metadata": {
    "colab": {
      "name": "11_1_Intro_to_Unsupervised_Learning_I.ipynb",
      "version": "0.3.2",
      "provenance": [],
      "collapsed_sections": [
        "BYr1vtpd8uw4"
      ],
      "include_colab_link": true
    },
    "kernelspec": {
      "name": "python3",
      "display_name": "Python 3"
    }
  },
  "cells": [
    {
      "cell_type": "markdown",
      "metadata": {
        "id": "view-in-github",
        "colab_type": "text"
      },
      "source": [
        "[View in Colaboratory](https://colab.research.google.com/github/RayleighKim/M11_Intro_To_Unsuerpvised_Learning/blob/master/11_1_Intro_to_Unsupervised_Learning_I.ipynb)"
      ]
    },
    {
      "metadata": {
        "id": "cVB9pY-v8uv5",
        "colab_type": "text"
      },
      "cell_type": "markdown",
      "source": [
        "# Intro to Unsupervised Learning\n",
        "\n",
        "## Text Retrieval Problem\n",
        "\n",
        "### Your name :     \n",
        "\n",
        "### Data Link :\n",
        "* [DBpedia](https://wiki.dbpedia.org/)\n",
        "* [Dataset](https://media.githubusercontent.com/media/RayleighKim/Example_datasets/master/People_wiki.csv)\n",
        "\n",
        "#### 실습목표 I<br>\n",
        "1. TF-IDF를 이해한다.\n",
        "2. Scikit-Learn을 이용하여 클러스터링을 할 줄 안다.\n",
        "\n",
        "#### 실습목표 II<br>\n",
        "1. 문제의 구조를 정교화 하기 위해 발전한 과정의 흐름을 안다.\n",
        "---------------\n",
        "Rayleigh Kim @ D:plus\n"
      ]
    },
    {
      "metadata": {
        "id": "GVvCef6A8uv6",
        "colab_type": "code",
        "colab": {
          "base_uri": "https://localhost:8080/",
          "height": 54
        },
        "outputId": "8eefb34c-1c75-43b9-e003-a1fcaa32ef46"
      },
      "cell_type": "code",
      "source": [
        "'''\n",
        "라이브러리들을 불러오자.\n",
        "'''\n",
        "import numpy as np\n",
        "import pandas as pd\n",
        "'''\n",
        "사이킷런의 라이브러리들을 미리 불러두는 것도 좋지만,\n",
        "세부적인 메쏘드가 너무 많아서 필요한것만 불러오도록 할 것이다.\n",
        "'''\n"
      ],
      "execution_count": 91,
      "outputs": [
        {
          "output_type": "execute_result",
          "data": {
            "text/plain": [
              "'\\n사이킷런의 라이브러리들을 미리 불러두는 것도 좋지만,\\n세부적인 메쏘드가 너무 많아서 필요한것만 불러오도록 할 것이다.\\n'"
            ]
          },
          "metadata": {
            "tags": []
          },
          "execution_count": 91
        }
      ]
    },
    {
      "metadata": {
        "id": "3cKmWSTZ8uwC",
        "colab_type": "text"
      },
      "cell_type": "markdown",
      "source": [
        "## Load and Prepare the data"
      ]
    },
    {
      "metadata": {
        "id": "Vqr7zY5r8uwC",
        "colab_type": "code",
        "colab": {}
      },
      "cell_type": "code",
      "source": [
        "data_path = 'https://media.githubusercontent.com/media/RayleighKim/Example_datasets/master/People_wiki.csv'\n",
        "people = pd.read_csv(data_path)"
      ],
      "execution_count": 0,
      "outputs": []
    },
    {
      "metadata": {
        "id": "p-x3msyAq6-z",
        "colab_type": "code",
        "colab": {
          "base_uri": "https://localhost:8080/",
          "height": 34
        },
        "outputId": "c81071de-4d44-4b92-db05-a32721cdb676"
      },
      "cell_type": "code",
      "source": [
        "len(people)"
      ],
      "execution_count": 93,
      "outputs": [
        {
          "output_type": "execute_result",
          "data": {
            "text/plain": [
              "59071"
            ]
          },
          "metadata": {
            "tags": []
          },
          "execution_count": 93
        }
      ]
    },
    {
      "metadata": {
        "id": "Wzs1nS348uwE",
        "colab_type": "code",
        "colab": {
          "base_uri": "https://localhost:8080/",
          "height": 363
        },
        "outputId": "3800426d-ee1a-453c-eb3c-8818ca79a4d2"
      },
      "cell_type": "code",
      "source": [
        "people.head()"
      ],
      "execution_count": 94,
      "outputs": [
        {
          "output_type": "execute_result",
          "data": {
            "text/html": [
              "<div>\n",
              "<style scoped>\n",
              "    .dataframe tbody tr th:only-of-type {\n",
              "        vertical-align: middle;\n",
              "    }\n",
              "\n",
              "    .dataframe tbody tr th {\n",
              "        vertical-align: top;\n",
              "    }\n",
              "\n",
              "    .dataframe thead th {\n",
              "        text-align: right;\n",
              "    }\n",
              "</style>\n",
              "<table border=\"1\" class=\"dataframe\">\n",
              "  <thead>\n",
              "    <tr style=\"text-align: right;\">\n",
              "      <th></th>\n",
              "      <th>URI</th>\n",
              "      <th>name</th>\n",
              "      <th>text</th>\n",
              "    </tr>\n",
              "  </thead>\n",
              "  <tbody>\n",
              "    <tr>\n",
              "      <th>0</th>\n",
              "      <td>&lt;http://dbpedia.org/resource/Digby_Morrell&gt;</td>\n",
              "      <td>Digby Morrell</td>\n",
              "      <td>digby morrell born 10 october 1979 is a former...</td>\n",
              "    </tr>\n",
              "    <tr>\n",
              "      <th>1</th>\n",
              "      <td>&lt;http://dbpedia.org/resource/Alfred_J._Lewy&gt;</td>\n",
              "      <td>Alfred J. Lewy</td>\n",
              "      <td>alfred j lewy aka sandy lewy graduated from un...</td>\n",
              "    </tr>\n",
              "    <tr>\n",
              "      <th>2</th>\n",
              "      <td>&lt;http://dbpedia.org/resource/Harpdog_Brown&gt;</td>\n",
              "      <td>Harpdog Brown</td>\n",
              "      <td>harpdog brown is a singer and harmonica player...</td>\n",
              "    </tr>\n",
              "    <tr>\n",
              "      <th>3</th>\n",
              "      <td>&lt;http://dbpedia.org/resource/Franz_Rottensteiner&gt;</td>\n",
              "      <td>Franz Rottensteiner</td>\n",
              "      <td>franz rottensteiner born in waidmannsfeld lowe...</td>\n",
              "    </tr>\n",
              "    <tr>\n",
              "      <th>4</th>\n",
              "      <td>&lt;http://dbpedia.org/resource/G-Enka&gt;</td>\n",
              "      <td>G-Enka</td>\n",
              "      <td>henry krvits born 30 december 1974 in tallinn ...</td>\n",
              "    </tr>\n",
              "  </tbody>\n",
              "</table>\n",
              "</div>"
            ],
            "text/plain": [
              "                                                 URI                 name  \\\n",
              "0        <http://dbpedia.org/resource/Digby_Morrell>        Digby Morrell   \n",
              "1       <http://dbpedia.org/resource/Alfred_J._Lewy>       Alfred J. Lewy   \n",
              "2        <http://dbpedia.org/resource/Harpdog_Brown>        Harpdog Brown   \n",
              "3  <http://dbpedia.org/resource/Franz_Rottensteiner>  Franz Rottensteiner   \n",
              "4               <http://dbpedia.org/resource/G-Enka>               G-Enka   \n",
              "\n",
              "                                                text  \n",
              "0  digby morrell born 10 october 1979 is a former...  \n",
              "1  alfred j lewy aka sandy lewy graduated from un...  \n",
              "2  harpdog brown is a singer and harmonica player...  \n",
              "3  franz rottensteiner born in waidmannsfeld lowe...  \n",
              "4  henry krvits born 30 december 1974 in tallinn ...  "
            ]
          },
          "metadata": {
            "tags": []
          },
          "execution_count": 94
        }
      ]
    },
    {
      "metadata": {
        "id": "aThY-j3xpUWl",
        "colab_type": "text"
      },
      "cell_type": "markdown",
      "source": [
        "우리는 URL은 안쓸꺼니까! 날려버리자.\n",
        "\n",
        "왜인지 URI로 되어 있다."
      ]
    },
    {
      "metadata": {
        "id": "wCDUCtRGpW6d",
        "colab_type": "code",
        "colab": {
          "base_uri": "https://localhost:8080/",
          "height": 195
        },
        "outputId": "2b16fd0b-c856-439c-97a0-b49e43354236"
      },
      "cell_type": "code",
      "source": [
        "if 'URI' in list(people):\n",
        "    people.drop(labels=['URI'], axis=1, inplace=True)\n",
        "people.head()"
      ],
      "execution_count": 95,
      "outputs": [
        {
          "output_type": "execute_result",
          "data": {
            "text/html": [
              "<div>\n",
              "<style scoped>\n",
              "    .dataframe tbody tr th:only-of-type {\n",
              "        vertical-align: middle;\n",
              "    }\n",
              "\n",
              "    .dataframe tbody tr th {\n",
              "        vertical-align: top;\n",
              "    }\n",
              "\n",
              "    .dataframe thead th {\n",
              "        text-align: right;\n",
              "    }\n",
              "</style>\n",
              "<table border=\"1\" class=\"dataframe\">\n",
              "  <thead>\n",
              "    <tr style=\"text-align: right;\">\n",
              "      <th></th>\n",
              "      <th>name</th>\n",
              "      <th>text</th>\n",
              "    </tr>\n",
              "  </thead>\n",
              "  <tbody>\n",
              "    <tr>\n",
              "      <th>0</th>\n",
              "      <td>Digby Morrell</td>\n",
              "      <td>digby morrell born 10 october 1979 is a former...</td>\n",
              "    </tr>\n",
              "    <tr>\n",
              "      <th>1</th>\n",
              "      <td>Alfred J. Lewy</td>\n",
              "      <td>alfred j lewy aka sandy lewy graduated from un...</td>\n",
              "    </tr>\n",
              "    <tr>\n",
              "      <th>2</th>\n",
              "      <td>Harpdog Brown</td>\n",
              "      <td>harpdog brown is a singer and harmonica player...</td>\n",
              "    </tr>\n",
              "    <tr>\n",
              "      <th>3</th>\n",
              "      <td>Franz Rottensteiner</td>\n",
              "      <td>franz rottensteiner born in waidmannsfeld lowe...</td>\n",
              "    </tr>\n",
              "    <tr>\n",
              "      <th>4</th>\n",
              "      <td>G-Enka</td>\n",
              "      <td>henry krvits born 30 december 1974 in tallinn ...</td>\n",
              "    </tr>\n",
              "  </tbody>\n",
              "</table>\n",
              "</div>"
            ],
            "text/plain": [
              "                  name                                               text\n",
              "0        Digby Morrell  digby morrell born 10 october 1979 is a former...\n",
              "1       Alfred J. Lewy  alfred j lewy aka sandy lewy graduated from un...\n",
              "2        Harpdog Brown  harpdog brown is a singer and harmonica player...\n",
              "3  Franz Rottensteiner  franz rottensteiner born in waidmannsfeld lowe...\n",
              "4               G-Enka  henry krvits born 30 december 1974 in tallinn ..."
            ]
          },
          "metadata": {
            "tags": []
          },
          "execution_count": 95
        }
      ]
    },
    {
      "metadata": {
        "id": "zbwpz0ek8uw2",
        "colab_type": "text"
      },
      "cell_type": "markdown",
      "source": [
        "## Explore the dataset\n",
        "\n",
        "엘튼 존! 조지 클루니!"
      ]
    },
    {
      "metadata": {
        "id": "CurBFRz88uw2",
        "colab_type": "code",
        "colab": {
          "base_uri": "https://localhost:8080/",
          "height": 77
        },
        "outputId": "bbc89f1f-8663-4058-aee5-3bb7d47cdb0c"
      },
      "cell_type": "code",
      "source": [
        "elton = people.loc[people['name']=='Elton John']\n",
        "elton"
      ],
      "execution_count": 96,
      "outputs": [
        {
          "output_type": "execute_result",
          "data": {
            "text/html": [
              "<div>\n",
              "<style scoped>\n",
              "    .dataframe tbody tr th:only-of-type {\n",
              "        vertical-align: middle;\n",
              "    }\n",
              "\n",
              "    .dataframe tbody tr th {\n",
              "        vertical-align: top;\n",
              "    }\n",
              "\n",
              "    .dataframe thead th {\n",
              "        text-align: right;\n",
              "    }\n",
              "</style>\n",
              "<table border=\"1\" class=\"dataframe\">\n",
              "  <thead>\n",
              "    <tr style=\"text-align: right;\">\n",
              "      <th></th>\n",
              "      <th>name</th>\n",
              "      <th>text</th>\n",
              "    </tr>\n",
              "  </thead>\n",
              "  <tbody>\n",
              "    <tr>\n",
              "      <th>19923</th>\n",
              "      <td>Elton John</td>\n",
              "      <td>sir elton hercules john cbe born reginald kenn...</td>\n",
              "    </tr>\n",
              "  </tbody>\n",
              "</table>\n",
              "</div>"
            ],
            "text/plain": [
              "             name                                               text\n",
              "19923  Elton John  sir elton hercules john cbe born reginald kenn..."
            ]
          },
          "metadata": {
            "tags": []
          },
          "execution_count": 96
        }
      ]
    },
    {
      "metadata": {
        "id": "AvfKDw1q-Z9Z",
        "colab_type": "code",
        "colab": {
          "base_uri": "https://localhost:8080/",
          "height": 54
        },
        "outputId": "0c69be00-f721-4789-88d8-2920508d1928"
      },
      "cell_type": "code",
      "source": [
        "list(elton['text'])"
      ],
      "execution_count": 97,
      "outputs": [
        {
          "output_type": "execute_result",
          "data": {
            "text/plain": [
              "['sir elton hercules john cbe born reginald kenneth dwight 25 march 1947 is an english singer songwriter composer pianist record producer and occasional actor he has worked with lyricist bernie taupin as his songwriter partner since 1967 they have collaborated on more than 30 albums to datein his fivedecade career elton john has sold more than 300 million records making him one of the bestselling music artists in the world he has more than fifty top 40 hits including seven consecutive no 1 us albums 58 billboard top 40 singles 27 top 10 four no 2 and nine no 1 for 31 consecutive years 19702000 he had at least one song in the billboard hot 100 his single something about the way you look tonightcandle in the wind 1997 sold over 33 million copies worldwide and is the bestselling single of all time he has received six grammy awards five brit awards winning two awards for outstanding contribution to music and the first brits icon in 2013 for his lasting impact on british culture an academy award a golden globe award a tony award a disney legend award and the kennedy center honors in 2004 in 2004 rolling stone ranked him number 49 on its list of 100 influential musicians of the rock and roll era in 2008 billboard ranked him the most successful male solo artist on the billboard hot 100 top alltime artists third overallelton john was inducted into the rock and roll hall of fame in 1994 is an inductee into the songwriters hall of fame and is a fellow of the british academy of songwriters composers and authors having been named a commander of the order of the british empire in 1996 john received a knighthood from elizabeth ii for services to music and charitable services in 1998 john has performed at a number of royal events such as the funeral of princess diana at westminster abbey in 1997 the party at the palace in 2002 and the queens diamond jubilee concert outside buckingham palace in 2012he has been heavily involved in the fight against aids since the late 1980s in 1992 he established the elton john aids foundation and a year later began hosting the annual academy award party which has since become one of the highestprofile oscar parties in the hollywood film industry since its inception the foundation has raised over 200 million john who announced he was bisexual in 1976 and has been openly gay since 1988 entered into a civil partnership with david furnish on 21 december 2005 and after gay marriage became legal in england wed furnish on 21 december 2014 he continues to be a champion for lgbt social movements worldwide and samesex marriage']"
            ]
          },
          "metadata": {
            "tags": []
          },
          "execution_count": 97
        }
      ]
    },
    {
      "metadata": {
        "id": "M001k8fU-gKE",
        "colab_type": "code",
        "colab": {
          "base_uri": "https://localhost:8080/",
          "height": 1108
        },
        "outputId": "f35bc7ed-adb1-4eff-d5ea-6bb799919d74"
      },
      "cell_type": "code",
      "source": [
        "george = people.loc[people['name'].str.contains('George')]\n",
        "george['name']"
      ],
      "execution_count": 98,
      "outputs": [
        {
          "output_type": "execute_result",
          "data": {
            "text/plain": [
              "213                        George Brent Mickum IV\n",
              "586                          George Athan Billias\n",
              "977                            George M. Galambos\n",
              "1100                                  George Azar\n",
              "1323                                George Quasha\n",
              "1402                       George de la Pe%C3%B1a\n",
              "1418                                George E. Fox\n",
              "1524                                Willie George\n",
              "1710                                George Athans\n",
              "2486                             George Halvorson\n",
              "2654                               George Gabriel\n",
              "2657                              Billy Georgette\n",
              "2770                  George McMahon (politician)\n",
              "2969                              George Brancato\n",
              "3883                               George Kurdahi\n",
              "4904                      George Hart (physicist)\n",
              "5180                           George P. Fletcher\n",
              "5624                                  George Piro\n",
              "5918                             George P. Taylor\n",
              "5952                                  George Roll\n",
              "6345                                George Heller\n",
              "6517                               George O'Boyle\n",
              "6828                           George J. Mitchell\n",
              "7363                            George Mu%C3%B1oz\n",
              "7457                           George Poinar, Jr.\n",
              "7666                           Andrew George, Jr.\n",
              "7740                                 George Shire\n",
              "7937                                  Doug George\n",
              "8372                                  George Wang\n",
              "8412                              George Koskotas\n",
              "                           ...                   \n",
              "52459                                George Herms\n",
              "53012                              George McGavin\n",
              "53222                              George Shapiro\n",
              "53346                          George Ramsay Cook\n",
              "53742                                  Uwe George\n",
              "54091                                George Awada\n",
              "54182                                George Phang\n",
              "54242                        George W. Knight III\n",
              "54269                   George Seitz (politician)\n",
              "54452                           George H. W. Bush\n",
              "54506                    George Lyle (ice hockey)\n",
              "54542                             George Stonbely\n",
              "54598                  George Rose (rugby league)\n",
              "55051                              Noah Georgeson\n",
              "55341                      George T. Babbitt, Jr.\n",
              "55392                             Georgeann Wells\n",
              "55870                              George G. Hall\n",
              "55962                     George Weedon (gymnast)\n",
              "56184                               George Ibanez\n",
              "56361                              George Haffner\n",
              "56453                           George Greenamyer\n",
              "56692                  George Leslie (politician)\n",
              "56834                             George W. Grace\n",
              "57213        George Howard, 13th Earl of Carlisle\n",
              "57384                                Bruce George\n",
              "57512    George Little (New Brunswick politician)\n",
              "57624                                George Tobin\n",
              "57803                                George Reyes\n",
              "58529                            George McConnell\n",
              "59058                               George Krause\n",
              "Name: name, Length: 325, dtype: object"
            ]
          },
          "metadata": {
            "tags": []
          },
          "execution_count": 98
        }
      ]
    },
    {
      "metadata": {
        "id": "f5SHUO2b-oxE",
        "colab_type": "code",
        "colab": {
          "base_uri": "https://localhost:8080/",
          "height": 77
        },
        "outputId": "455c9bee-3652-4d00-a5d7-4fc8349bd873"
      },
      "cell_type": "code",
      "source": [
        "clooney = george.loc[george['name'].str.contains('Clooney')]\n",
        "clooney"
      ],
      "execution_count": 99,
      "outputs": [
        {
          "output_type": "execute_result",
          "data": {
            "text/html": [
              "<div>\n",
              "<style scoped>\n",
              "    .dataframe tbody tr th:only-of-type {\n",
              "        vertical-align: middle;\n",
              "    }\n",
              "\n",
              "    .dataframe tbody tr th {\n",
              "        vertical-align: top;\n",
              "    }\n",
              "\n",
              "    .dataframe thead th {\n",
              "        text-align: right;\n",
              "    }\n",
              "</style>\n",
              "<table border=\"1\" class=\"dataframe\">\n",
              "  <thead>\n",
              "    <tr style=\"text-align: right;\">\n",
              "      <th></th>\n",
              "      <th>name</th>\n",
              "      <th>text</th>\n",
              "    </tr>\n",
              "  </thead>\n",
              "  <tbody>\n",
              "    <tr>\n",
              "      <th>38514</th>\n",
              "      <td>George Clooney</td>\n",
              "      <td>george timothy clooney born may 6 1961 is an a...</td>\n",
              "    </tr>\n",
              "  </tbody>\n",
              "</table>\n",
              "</div>"
            ],
            "text/plain": [
              "                 name                                               text\n",
              "38514  George Clooney  george timothy clooney born may 6 1961 is an a..."
            ]
          },
          "metadata": {
            "tags": []
          },
          "execution_count": 99
        }
      ]
    },
    {
      "metadata": {
        "id": "5-o9QRAJ_3-3",
        "colab_type": "code",
        "colab": {
          "base_uri": "https://localhost:8080/",
          "height": 54
        },
        "outputId": "76876d2b-4aa9-46f6-fd69-08fe65f7cfda"
      },
      "cell_type": "code",
      "source": [
        "list(clooney['text'])"
      ],
      "execution_count": 100,
      "outputs": [
        {
          "output_type": "execute_result",
          "data": {
            "text/plain": [
              "['george timothy clooney born may 6 1961 is an american actor writer producer director and activist he has received three golden globe awards for his work as an actor and two academy awards one for acting and the other for producingclooney made his acting debut on television in 1978 and later gained wide recognition in his role as dr doug ross on the longrunning medical drama er from 1994 to 1999 for which he received two emmy award nominations while working on er he began attracting a variety of leading roles in films including the superhero film batman robin 1997 and the crime comedy out of sight 1998 in which he first worked with a director who would become a longtime collaborator steven soderbergh in 1999 clooney took the lead role in three kings a wellreceived war satire set during the gulf warin 2001 clooneys fame widened with the release of his biggest commercial success the heist comedy oceans eleven the first of the film trilogy a remake of the 1960 film with frank sinatra as danny ocean he made his directorial debut a year later with the biographical thriller confessions of a dangerous mind and has since directed the drama good night and good luck 2005 the sports comedy leatherheads 2008 the political drama the ides of march 2011 and the comedydrama war film the monuments men 2014he won an academy award for best supporting actor for the middle east thriller syriana 2005 and subsequently earned best actor nominations for the legal thriller michael clayton 2007 the comedydrama up in the air 2009 and the drama the descendants 2011 in 2013 he received the academy award for best picture for producing the political thriller argo alongside ben affleck and grant heslov he is the only person ever to be nominated for academy awards in six categoriesclooney is sometimes described as one of the most handsome men in the world in 2005 tv guide ranked clooney no 1 on its 50 sexiest stars of all time list in 2009 he was included in times annual time 100 as one of the most influential people in the world clooney is also noted for his political activism and has served as one of the united nations messengers of peace since january 31 2008 his humanitarian work includes his advocacy of finding a resolution for the darfur conflict raising funds for the 2010 haiti earthquake 2004 tsunami and 911 victims and creating documentaries such as sand and sorrow to raise awareness about international crises he is also a member of the council on foreign relations']"
            ]
          },
          "metadata": {
            "tags": []
          },
          "execution_count": 100
        }
      ]
    },
    {
      "metadata": {
        "id": "BYr1vtpd8uw4",
        "colab_type": "text"
      },
      "cell_type": "markdown",
      "source": [
        "## Bag of Words Simple ver\n",
        "\n",
        "텍스트 문서들은 있다.<br>\n",
        "\n",
        "텍스트들을 단어 등장여부를 이용한 binary vector로 만들자."
      ]
    },
    {
      "metadata": {
        "id": "C0NSQfKKEvTY",
        "colab_type": "code",
        "colab": {}
      },
      "cell_type": "code",
      "source": [
        "'''\n",
        "Library Loading\n",
        "'''\n",
        "from collections import Counter, OrderedDict\n",
        "import sklearn.feature_extraction.text as text"
      ],
      "execution_count": 0,
      "outputs": []
    },
    {
      "metadata": {
        "id": "MyC6Zw6kbChy",
        "colab_type": "text"
      },
      "cell_type": "markdown",
      "source": [
        "### 문장 하나를 사전으로 만들어 보자."
      ]
    },
    {
      "metadata": {
        "id": "htO9pyBmbSk-",
        "colab_type": "code",
        "colab": {}
      },
      "cell_type": "code",
      "source": [
        "def Ordered_words(id = 0):\n",
        "    sample_string = people['text'][id]\n",
        "    string_splitted = sample_string.split()\n",
        "    word_dict = dict(Counter(string_splitted))\n",
        "    word_dict_list = [(k,v) for k, v in word_dict.items()]\n",
        "    word_dict_list.sort(key = lambda x:x[1], reverse=True)\n",
        "    print('name : ',people['name'][id])\n",
        "    print(sample_string)\n",
        "    print(word_dict_list)\n",
        "    "
      ],
      "execution_count": 0,
      "outputs": []
    },
    {
      "metadata": {
        "id": "7VdkxbZwjp_5",
        "colab_type": "code",
        "colab": {
          "base_uri": "https://localhost:8080/",
          "height": 90
        },
        "outputId": "106d22ec-a623-467e-c993-d43ac4d130ac"
      },
      "cell_type": "code",
      "source": [
        "'''\n",
        "Ordered_words(n)\n",
        "n 을 바꾸어 가며 확인해보자.\n",
        "'''\n",
        "\n",
        "Ordered_words(3)"
      ],
      "execution_count": 103,
      "outputs": [
        {
          "output_type": "stream",
          "text": [
            "name :  Franz Rottensteiner\n",
            "franz rottensteiner born in waidmannsfeld lower austria austria on 18 january 1942 is an austrian publisher and critic in the fields of science fiction and the fantasticrottensteiner studied journalism english and history at the university of vienna receiving his doctorate in 1969 he served about fifteen years as librarian and editor at the sterreichisches institut fr bauforschung in vienna in addition he produced a number of translations into german of leading sf authors including herbert w franke stanislaw lem philip k dick kobo abe cordwainer smith brian w aldiss and the strugatski brothersin 1973 his new york anthology view from another shore of european science fiction introduced a number of continental authors to the englishreading public some of the authors in the work are stanislaw lem josef nesvadba gerard klein and jeanpierre andrevonthe year 1975 saw the start of his series die phantastischen romane for seven years it republished works of both lesser and betterknown writers as well as new ones ending with a total of 28 volumes in the years 19791985 he brought out trnaslations of h g wellss works in an eighteen volumes seriesrottensteiner provoked some controversy with his negative assessment of american science fiction what matters is the highest achievements and there the us has yet to produce a figure comparable to hg wells olaf stapledon karel apek or stanisaw lem rottensteiner describedroger zelazny barry n malzberg and robert silverberg as producing travesties of fiction and stated asimov is a typical nonwriter and heinlein and andersonare just banal however rottensteiner praised philip k dick listing him as one of the greatest sf writers from 1980 through 1998 he was advisor for suhrkamp verlags phantastische bibliothek which brought out some three hundred books in all he has edited about fifty anthologies produced two illustrated books the science fiction book 1975 und the fantasy book 1978 as well as working on numerous reference works on science fiction his close association with and promotion of lem until 1995 was a factor in the recognition of the latter in the united statesrottensteiner has been the editor of quarber merkur the leading german language critical journal of science fiction since 1963 in 2004 on the occasion of the hundredth number of this journal he was awarded a special kurdlawitzpreis\n",
            "[('the', 22), ('of', 20), ('and', 13), ('in', 12), ('fiction', 7), ('as', 7), ('a', 7), ('science', 6), ('he', 6), ('his', 5), ('on', 4), ('lem', 4), ('rottensteiner', 3), ('is', 3), ('years', 3), ('number', 3), ('authors', 3), ('to', 3), ('some', 3), ('works', 3), ('with', 3), ('has', 3), ('was', 3), ('austria', 2), ('an', 2), ('at', 2), ('vienna', 2), ('about', 2), ('editor', 2), ('produced', 2), ('german', 2), ('leading', 2), ('sf', 2), ('w', 2), ('stanislaw', 2), ('philip', 2), ('k', 2), ('dick', 2), ('new', 2), ('from', 2), ('1975', 2), ('for', 2), ('writers', 2), ('well', 2), ('volumes', 2), ('brought', 2), ('out', 2), ('books', 2), ('book', 2), ('journal', 2), ('franz', 1), ('born', 1), ('waidmannsfeld', 1), ('lower', 1), ('18', 1), ('january', 1), ('1942', 1), ('austrian', 1), ('publisher', 1), ('critic', 1), ('fields', 1), ('fantasticrottensteiner', 1), ('studied', 1), ('journalism', 1), ('english', 1), ('history', 1), ('university', 1), ('receiving', 1), ('doctorate', 1), ('1969', 1), ('served', 1), ('fifteen', 1), ('librarian', 1), ('sterreichisches', 1), ('institut', 1), ('fr', 1), ('bauforschung', 1), ('addition', 1), ('translations', 1), ('into', 1), ('including', 1), ('herbert', 1), ('franke', 1), ('kobo', 1), ('abe', 1), ('cordwainer', 1), ('smith', 1), ('brian', 1), ('aldiss', 1), ('strugatski', 1), ('brothersin', 1), ('1973', 1), ('york', 1), ('anthology', 1), ('view', 1), ('another', 1), ('shore', 1), ('european', 1), ('introduced', 1), ('continental', 1), ('englishreading', 1), ('public', 1), ('work', 1), ('are', 1), ('josef', 1), ('nesvadba', 1), ('gerard', 1), ('klein', 1), ('jeanpierre', 1), ('andrevonthe', 1), ('year', 1), ('saw', 1), ('start', 1), ('series', 1), ('die', 1), ('phantastischen', 1), ('romane', 1), ('seven', 1), ('it', 1), ('republished', 1), ('both', 1), ('lesser', 1), ('betterknown', 1), ('ones', 1), ('ending', 1), ('total', 1), ('28', 1), ('19791985', 1), ('trnaslations', 1), ('h', 1), ('g', 1), ('wellss', 1), ('eighteen', 1), ('seriesrottensteiner', 1), ('provoked', 1), ('controversy', 1), ('negative', 1), ('assessment', 1), ('american', 1), ('what', 1), ('matters', 1), ('highest', 1), ('achievements', 1), ('there', 1), ('us', 1), ('yet', 1), ('produce', 1), ('figure', 1), ('comparable', 1), ('hg', 1), ('wells', 1), ('olaf', 1), ('stapledon', 1), ('karel', 1), ('apek', 1), ('or', 1), ('stanisaw', 1), ('describedroger', 1), ('zelazny', 1), ('barry', 1), ('n', 1), ('malzberg', 1), ('robert', 1), ('silverberg', 1), ('producing', 1), ('travesties', 1), ('stated', 1), ('asimov', 1), ('typical', 1), ('nonwriter', 1), ('heinlein', 1), ('andersonare', 1), ('just', 1), ('banal', 1), ('however', 1), ('praised', 1), ('listing', 1), ('him', 1), ('one', 1), ('greatest', 1), ('1980', 1), ('through', 1), ('1998', 1), ('advisor', 1), ('suhrkamp', 1), ('verlags', 1), ('phantastische', 1), ('bibliothek', 1), ('which', 1), ('three', 1), ('hundred', 1), ('all', 1), ('edited', 1), ('fifty', 1), ('anthologies', 1), ('two', 1), ('illustrated', 1), ('und', 1), ('fantasy', 1), ('1978', 1), ('working', 1), ('numerous', 1), ('reference', 1), ('close', 1), ('association', 1), ('promotion', 1), ('until', 1), ('1995', 1), ('factor', 1), ('recognition', 1), ('latter', 1), ('united', 1), ('statesrottensteiner', 1), ('been', 1), ('quarber', 1), ('merkur', 1), ('language', 1), ('critical', 1), ('since', 1), ('1963', 1), ('2004', 1), ('occasion', 1), ('hundredth', 1), ('this', 1), ('awarded', 1), ('special', 1), ('kurdlawitzpreis', 1)]\n"
          ],
          "name": "stdout"
        }
      ]
    },
    {
      "metadata": {
        "id": "FQSEn4HoksYK",
        "colab_type": "text"
      },
      "cell_type": "markdown",
      "source": [
        "### 모든 텍스트를 이용하여, 존재하는 단어들의 사전을 만들어 보자!"
      ]
    },
    {
      "metadata": {
        "id": "56ULjyIjGV6q",
        "colab_type": "code",
        "colab": {}
      },
      "cell_type": "code",
      "source": [
        "word_bin = text.CountVectorizer(binary = True)"
      ],
      "execution_count": 0,
      "outputs": []
    },
    {
      "metadata": {
        "id": "Gk7TaVhouv-V",
        "colab_type": "code",
        "colab": {}
      },
      "cell_type": "code",
      "source": [
        "X_simple = word_bin.fit_transform(people['text'])"
      ],
      "execution_count": 0,
      "outputs": []
    },
    {
      "metadata": {
        "id": "wCDF4JDdKTaw",
        "colab_type": "code",
        "colab": {
          "base_uri": "https://localhost:8080/",
          "height": 54
        },
        "outputId": "63492d93-0b64-4f74-f4c7-4f37ec800c2a"
      },
      "cell_type": "code",
      "source": [
        "type(X_simple)"
      ],
      "execution_count": 106,
      "outputs": [
        {
          "output_type": "execute_result",
          "data": {
            "text/plain": [
              "scipy.sparse.csr.csr_matrix"
            ]
          },
          "metadata": {
            "tags": []
          },
          "execution_count": 106
        }
      ]
    },
    {
      "metadata": {
        "id": "guQ9cbn6LxGP",
        "colab_type": "code",
        "colab": {
          "base_uri": "https://localhost:8080/",
          "height": 17672
        },
        "outputId": "be4f786c-f802-4740-e31d-bb34ee5a0eee"
      },
      "cell_type": "code",
      "source": [
        "print(len(word_bin.vocabulary_))\n",
        "word_bin.vocabulary_"
      ],
      "execution_count": 107,
      "outputs": [
        {
          "output_type": "stream",
          "text": [
            "548429\n"
          ],
          "name": "stdout"
        },
        {
          "output_type": "execute_result",
          "data": {
            "text/plain": [
              "{'digby': 160652,\n",
              " 'morrell': 336162,\n",
              " 'born': 96612,\n",
              " '10': 704,\n",
              " 'october': 359577,\n",
              " '1979': 11143,\n",
              " 'is': 259893,\n",
              " 'former': 203171,\n",
              " 'australian': 72887,\n",
              " 'rules': 427313,\n",
              " 'footballer': 202230,\n",
              " 'who': 530685,\n",
              " 'played': 386988,\n",
              " 'with': 533439,\n",
              " 'the': 488148,\n",
              " 'kangaroos': 272528,\n",
              " 'and': 58906,\n",
              " 'carlton': 111950,\n",
              " 'in': 251905,\n",
              " 'football': 202189,\n",
              " 'league': 293515,\n",
              " 'aflfrom': 48415,\n",
              " 'western': 529346,\n",
              " 'australia': 72734,\n",
              " 'his': 239271,\n",
              " 'early': 172662,\n",
              " 'senior': 442836,\n",
              " 'for': 202462,\n",
              " 'west': 529244,\n",
              " 'perth': 380905,\n",
              " '44game': 34683,\n",
              " 'career': 111212,\n",
              " 'falcons': 191106,\n",
              " 'spanned': 461891,\n",
              " '19982000': 16893,\n",
              " 'he': 233774,\n",
              " 'was': 525845,\n",
              " 'clubs': 128392,\n",
              " 'leading': 293448,\n",
              " 'goalkicker': 218903,\n",
              " '2000': 18132,\n",
              " 'at': 70622,\n",
              " 'age': 49200,\n",
              " 'of': 360068,\n",
              " '21': 28353,\n",
              " 'recruited': 412470,\n",
              " 'to': 494541,\n",
              " 'by': 105803,\n",
              " 'club': 128164,\n",
              " 'its': 261721,\n",
              " 'third': 490181,\n",
              " 'round': 425753,\n",
              " 'selection': 441507,\n",
              " '2001': 18661,\n",
              " 'afl': 48375,\n",
              " 'rookie': 424587,\n",
              " 'draft': 168048,\n",
              " 'as': 68179,\n",
              " 'forward': 203651,\n",
              " 'twice': 504981,\n",
              " 'kicked': 277963,\n",
              " 'five': 199447,\n",
              " 'goals': 218930,\n",
              " 'during': 171497,\n",
              " 'time': 492517,\n",
              " 'first': 198987,\n",
              " 'losing': 304324,\n",
              " 'cause': 114354,\n",
              " 'against': 49096,\n",
              " 'sydney': 477633,\n",
              " '2002': 19167,\n",
              " 'other': 367511,\n",
              " 'following': 201845,\n",
              " 'season': 439206,\n",
              " 'drawn': 168649,\n",
              " 'game': 210458,\n",
              " 'brisbaneafter': 100673,\n",
              " '2003': 19701,\n",
              " 'traded': 498461,\n",
              " 'along': 55407,\n",
              " 'david': 151653,\n",
              " 'teague': 483135,\n",
              " 'exchange': 187697,\n",
              " 'corey': 139935,\n",
              " 'mckernan': 320586,\n",
              " '32': 32013,\n",
              " 'games': 210700,\n",
              " 'blues': 93177,\n",
              " 'before': 84263,\n",
              " 'being': 84698,\n",
              " 'delisted': 155373,\n",
              " 'end': 179957,\n",
              " '2005': 20902,\n",
              " 'continued': 138285,\n",
              " 'play': 386929,\n",
              " 'victorian': 518690,\n",
              " 'vfl': 518109,\n",
              " 'northern': 355400,\n",
              " 'bullants': 103850,\n",
              " 'carltons': 111965,\n",
              " 'vflaffiliate': 518111,\n",
              " '2006': 21537,\n",
              " 'acted': 45109,\n",
              " 'playing': 387436,\n",
              " 'assistant': 69664,\n",
              " 'coach': 128896,\n",
              " '2007': 22237,\n",
              " '2008': 23034,\n",
              " 'shifted': 447736,\n",
              " 'box': 97883,\n",
              " 'hill': 238274,\n",
              " 'hawks': 233266,\n",
              " 'retiring': 418380,\n",
              " 'from': 207224,\n",
              " '2009': 23789,\n",
              " 'until': 511222,\n",
              " '2013': 26651,\n",
              " 'strathmore': 470394,\n",
              " 'essendon': 184523,\n",
              " 'district': 163854,\n",
              " '2011': 25312,\n",
              " 'premier': 395008,\n",
              " 'division': 164271,\n",
              " 'premiership': 395043,\n",
              " 'since': 451997,\n",
              " '2014': 27213,\n",
              " 'has': 232352,\n",
              " 'coached': 128951,\n",
              " 'coburg': 129425,\n",
              " 'also': 55769,\n",
              " 'edflhe': 174268,\n",
              " 'currently': 147491,\n",
              " 'teaches': 483084,\n",
              " 'physical': 383407,\n",
              " 'education': 174843,\n",
              " 'parade': 373306,\n",
              " 'college': 130972,\n",
              " 'melbourne': 323069,\n",
              " 'alfred': 53435,\n",
              " 'lewy': 297332,\n",
              " 'aka': 51265,\n",
              " 'sandy': 432053,\n",
              " 'graduated': 222055,\n",
              " 'university': 509716,\n",
              " 'chicago': 121327,\n",
              " '1973': 9966,\n",
              " 'after': 48854,\n",
              " 'studying': 471927,\n",
              " 'psychiatry': 401506,\n",
              " 'pharmacology': 382010,\n",
              " 'ophthalmology': 364502,\n",
              " 'full': 208061,\n",
              " 'professor': 398641,\n",
              " 'vicechair': 518438,\n",
              " 'department': 156684,\n",
              " 'ohsu': 361204,\n",
              " 'oregon': 365555,\n",
              " 'health': 234015,\n",
              " 'science': 437184,\n",
              " 'holds': 241117,\n",
              " 'an': 58306,\n",
              " 'md': 321068,\n",
              " 'phd': 382095,\n",
              " 'prior': 396870,\n",
              " 'moving': 337782,\n",
              " '1981': 11718,\n",
              " 'national': 345651,\n",
              " 'institute': 256131,\n",
              " 'mental': 324197,\n",
              " 'nimh': 352118,\n",
              " 'bethesda': 87732,\n",
              " 'maryland': 316492,\n",
              " 'working': 535590,\n",
              " 'colleague': 130788,\n",
              " 'thomas': 490543,\n",
              " 'wehr': 528054,\n",
              " 'worked': 535489,\n",
              " 'closely': 127964,\n",
              " 'robert': 422621,\n",
              " 'sack': 429216,\n",
              " 'december': 153546,\n",
              " 'had': 228410,\n",
              " '94': 40834,\n",
              " 'publications': 401935,\n",
              " 'available': 73777,\n",
              " 'on': 362795,\n",
              " 'pubmed': 402289,\n",
              " 'describes': 157504,\n",
              " 'research': 417010,\n",
              " 'follows': 201883,\n",
              " 'my': 342612,\n",
              " 'laboratory': 288307,\n",
              " 'studies': 471645,\n",
              " 'chronobiologic': 123893,\n",
              " 'sleep': 455467,\n",
              " 'mood': 335138,\n",
              " 'disorders': 163313,\n",
              " 'these': 489777,\n",
              " 'include': 252374,\n",
              " 'winter': 532949,\n",
              " 'depression': 156947,\n",
              " 'jet': 266019,\n",
              " 'lag': 288965,\n",
              " 'maladaptation': 311191,\n",
              " 'shift': 447734,\n",
              " 'work': 535405,\n",
              " 'certain': 116692,\n",
              " 'types': 505688,\n",
              " 'disturbances': 163994,\n",
              " 'relying': 415317,\n",
              " 'very': 517822,\n",
              " 'precise': 394527,\n",
              " 'assay': 69373,\n",
              " 'plasma': 386674,\n",
              " 'melatonin': 323056,\n",
              " 'hormone': 242927,\n",
              " 'that': 487995,\n",
              " 'clearly': 127245,\n",
              " 'defined': 154533,\n",
              " '24hour': 29860,\n",
              " 'pattern': 376507,\n",
              " 'secretion': 440457,\n",
              " 'biological': 90275,\n",
              " 'rhythm': 419799,\n",
              " 'can': 108856,\n",
              " 'be': 83218,\n",
              " 'assessed': 69536,\n",
              " 'their': 488587,\n",
              " 'treatment': 500062,\n",
              " 'monitored': 334209,\n",
              " 'current': 147480,\n",
              " 'focused': 201393,\n",
              " 'developing': 158686,\n",
              " 'bright': 100440,\n",
              " 'light': 298905,\n",
              " 'exposure': 189066,\n",
              " 'administration': 46835,\n",
              " 'modalities': 332604,\n",
              " 'must': 342071,\n",
              " 'precisely': 394528,\n",
              " 'scheduled': 435342,\n",
              " 'morning': 336021,\n",
              " 'evening': 186601,\n",
              " 'circadian': 125259,\n",
              " 'phaseadvance': 382050,\n",
              " 'shifts': 447743,\n",
              " 'phasedelay': 382057,\n",
              " 'totally': 497009,\n",
              " 'blind': 92420,\n",
              " 'individuals': 253557,\n",
              " 'have': 233049,\n",
              " '25hour': 30163,\n",
              " 'rhythms': 419825,\n",
              " 'drifting': 169125,\n",
              " 'hour': 243837,\n",
              " 'later': 291622,\n",
              " 'each': 172445,\n",
              " 'day': 151934,\n",
              " 'unless': 510564,\n",
              " 'they': 489883,\n",
              " 'take': 480014,\n",
              " 'capsule': 110607,\n",
              " 'every': 187049,\n",
              " 'harpdog': 231877,\n",
              " 'brown': 101939,\n",
              " 'singer': 452265,\n",
              " 'harmonica': 231765,\n",
              " 'player': 387025,\n",
              " 'been': 84135,\n",
              " 'active': 45288,\n",
              " 'canadas': 109115,\n",
              " 'scene': 435009,\n",
              " '1982': 11959,\n",
              " 'hailing': 228959,\n",
              " 'vancouver': 514887,\n",
              " 'crossed': 145190,\n",
              " 'tens': 486096,\n",
              " 'thousands': 490895,\n",
              " 'miles': 328459,\n",
              " 'dates': 151341,\n",
              " 'festivals': 195589,\n",
              " 'canada': 108870,\n",
              " 'northwestern': 355503,\n",
              " 'united': 509415,\n",
              " 'states': 466805,\n",
              " 'germanyover': 215067,\n",
              " 'years': 541553,\n",
              " 'issued': 260895,\n",
              " 'seven': 444813,\n",
              " 'cds': 115102,\n",
              " '1995': 15785,\n",
              " 'home': 241625,\n",
              " 'where': 530163,\n",
              " 'harp': 231871,\n",
              " 'won': 534784,\n",
              " 'muddy': 338895,\n",
              " 'award': 74411,\n",
              " 'best': 87522,\n",
              " 'nw': 357806,\n",
              " 'release': 414930,\n",
              " 'cascade': 112918,\n",
              " 'association': 69824,\n",
              " 'portland': 391776,\n",
              " 'well': 528465,\n",
              " 'year': 541127,\n",
              " 'it': 261200,\n",
              " 'nominated': 353722,\n",
              " 'canadian': 109178,\n",
              " 'juno': 270061,\n",
              " 'bluesgospel': 93207,\n",
              " 'recording': 411956,\n",
              " 'teamed': 483286,\n",
              " 'up': 511379,\n",
              " 'graham': 222179,\n",
              " 'guest': 226030,\n",
              " 'piano': 383692,\n",
              " 'cd': 114970,\n",
              " 'naturally': 346036,\n",
              " 'voted': 522673,\n",
              " 'album': 52530,\n",
              " '2010': 24571,\n",
              " 'lemon': 295808,\n",
              " 'surveybrown': 475951,\n",
              " 'tours': 497718,\n",
              " 'extensively': 189319,\n",
              " 'guitarist': 226500,\n",
              " 'arthur': 67063,\n",
              " 'edmonds': 174697,\n",
              " 'performing': 379956,\n",
              " 'electric': 177353,\n",
              " 'mid1950s': 327262,\n",
              " 'either': 176437,\n",
              " 'duo': 171261,\n",
              " 'or': 364925,\n",
              " 'band': 78891,\n",
              " 'while': 530234,\n",
              " 'juggles': 269507,\n",
              " 'few': 195842,\n",
              " 'combos': 132172,\n",
              " 'many': 313882,\n",
              " 'venues': 517055,\n",
              " 'big': 89270,\n",
              " 'small': 456113,\n",
              " 'leads': 293472,\n",
              " 'which': 530205,\n",
              " 'gutsy': 227450,\n",
              " 'traditional': 498548,\n",
              " 'released': 414948,\n",
              " 'what': 529990,\n",
              " 'comprising': 135181,\n",
              " 'mainly': 310509,\n",
              " 'original': 366166,\n",
              " 'songs': 459498,\n",
              " 'classic': 126795,\n",
              " 'covers': 142748,\n",
              " 'influential': 254386,\n",
              " 'promoter': 399834,\n",
              " 'broadcaster': 101058,\n",
              " 'holger': 241179,\n",
              " 'petersen': 381268,\n",
              " 'called': 107837,\n",
              " 'browns': 102016,\n",
              " 'albumhe': 52605,\n",
              " 'just': 270290,\n",
              " 'awarded': 74524,\n",
              " 'maple': 314024,\n",
              " 'toronto': 496588,\n",
              " 'honored': 242283,\n",
              " 'life': 298470,\n",
              " 'membership': 323573,\n",
              " 'hamilton': 230050,\n",
              " 'society': 457680,\n",
              " 'franz': 205514,\n",
              " 'rottensteiner': 425613,\n",
              " 'waidmannsfeld': 524050,\n",
              " 'lower': 305095,\n",
              " 'austria': 73015,\n",
              " '18': 5257,\n",
              " 'january': 263885,\n",
              " '1942': 6897,\n",
              " 'austrian': 73051,\n",
              " 'publisher': 402181,\n",
              " 'critic': 144644,\n",
              " 'fields': 196483,\n",
              " 'fiction': 196209,\n",
              " 'fantasticrottensteiner': 192059,\n",
              " 'studied': 471634,\n",
              " 'journalism': 268446,\n",
              " 'english': 180881,\n",
              " 'history': 239509,\n",
              " 'vienna': 519215,\n",
              " 'receiving': 411450,\n",
              " 'doctorate': 165311,\n",
              " '1969': 9153,\n",
              " 'served': 444134,\n",
              " 'about': 43179,\n",
              " 'fifteen': 196614,\n",
              " 'librarian': 297958,\n",
              " 'editor': 174536,\n",
              " 'sterreichisches': 468457,\n",
              " 'institut': 256130,\n",
              " 'fr': 204662,\n",
              " 'bauforschung': 82487,\n",
              " 'addition': 46338,\n",
              " 'produced': 397921,\n",
              " 'number': 357311,\n",
              " 'translations': 499367,\n",
              " 'into': 258054,\n",
              " 'german': 214819,\n",
              " 'sf': 445310,\n",
              " 'authors': 73354,\n",
              " 'including': 252531,\n",
              " 'herbert': 236189,\n",
              " 'franke': 205352,\n",
              " 'stanislaw': 465979,\n",
              " 'lem': 295720,\n",
              " 'philip': 382382,\n",
              " 'dick': 160057,\n",
              " 'kobo': 281793,\n",
              " 'abe': 42691,\n",
              " 'cordwainer': 139870,\n",
              " 'smith': 456429,\n",
              " 'brian': 100139,\n",
              " 'aldiss': 52992,\n",
              " 'strugatski': 471313,\n",
              " 'brothersin': 101830,\n",
              " 'new': 349674,\n",
              " 'york': 543347,\n",
              " 'anthology': 61186,\n",
              " 'view': 519359,\n",
              " 'another': 60855,\n",
              " 'shore': 448758,\n",
              " 'european': 185995,\n",
              " 'introduced': 258166,\n",
              " 'continental': 138222,\n",
              " 'englishreading': 180993,\n",
              " 'public': 401887,\n",
              " 'some': 459103,\n",
              " 'are': 64890,\n",
              " 'josef': 268206,\n",
              " 'nesvadba': 348695,\n",
              " 'gerard': 214695,\n",
              " 'klein': 280563,\n",
              " 'jeanpierre': 265157,\n",
              " 'andrevonthe': 59270,\n",
              " '1975': 10329,\n",
              " 'saw': 434117,\n",
              " 'start': 466396,\n",
              " 'series': 443678,\n",
              " 'die': 160257,\n",
              " 'phantastischen': 381942,\n",
              " 'romane': 424108,\n",
              " 'republished': 416810,\n",
              " 'works': 535720,\n",
              " 'both': 97118,\n",
              " 'lesser': 296572,\n",
              " 'betterknown': 87863,\n",
              " 'writers': 537442,\n",
              " 'ones': 363230,\n",
              " 'ending': 180071,\n",
              " 'total': 496969,\n",
              " '28': 30711,\n",
              " 'volumes': 522360,\n",
              " '19791985': 11170,\n",
              " 'brought': 101887,\n",
              " 'out': 368380,\n",
              " 'trnaslations': 501538,\n",
              " 'wellss': 528749,\n",
              " 'eighteen': 176051,\n",
              " 'seriesrottensteiner': 443892,\n",
              " 'provoked': 400965,\n",
              " 'controversy': 138655,\n",
              " 'negative': 347667,\n",
              " 'assessment': 69540,\n",
              " 'american': 57263,\n",
              " 'matters': 318272,\n",
              " 'highest': 237833,\n",
              " 'achievements': 44637,\n",
              " 'there': 489537,\n",
              " 'us': 512199,\n",
              " 'yet': 542605,\n",
              " 'produce': 397919,\n",
              " 'figure': 196849,\n",
              " 'comparable': 134240,\n",
              " 'hg': 237369,\n",
              " 'wells': 528727,\n",
              " 'olaf': 361671,\n",
              " 'stapledon': 466069,\n",
              " 'karel': 273260,\n",
              " 'apek': 62610,\n",
              " 'stanisaw': 465965,\n",
              " 'describedroger': 157500,\n",
              " 'zelazny': 546201,\n",
              " 'barry': 80926,\n",
              " 'malzberg': 311993,\n",
              " 'silverberg': 451479,\n",
              " 'producing': 398197,\n",
              " 'travesties': 499893,\n",
              " 'stated': 466633,\n",
              " 'asimov': 68938,\n",
              " 'typical': 505706,\n",
              " 'nonwriter': 354857,\n",
              " 'heinlein': 235020,\n",
              " 'andersonare': 59037,\n",
              " 'banal': 78806,\n",
              " 'however': 244298,\n",
              " 'praised': 394071,\n",
              " 'listing': 300840,\n",
              " 'him': 238474,\n",
              " 'one': 362987,\n",
              " 'greatest': 223171,\n",
              " '1980': 11356,\n",
              " 'through': 491325,\n",
              " '1998': 16882,\n",
              " 'advisor': 47539,\n",
              " 'suhrkamp': 473720,\n",
              " 'verlags': 517455,\n",
              " 'phantastische': 381941,\n",
              " 'bibliothek': 88873,\n",
              " 'three': 490984,\n",
              " 'hundred': 246448,\n",
              " 'books': 95835,\n",
              " 'all': 54130,\n",
              " 'edited': 174436,\n",
              " 'fifty': 196687,\n",
              " 'anthologies': 61159,\n",
              " 'two': 505213,\n",
              " 'illustrated': 250580,\n",
              " 'book': 95658,\n",
              " 'und': 508173,\n",
              " 'fantasy': 192066,\n",
              " '1978': 10922,\n",
              " 'numerous': 357389,\n",
              " 'reference': 413300,\n",
              " 'close': 127931,\n",
              " 'promotion': 399844,\n",
              " 'factor': 190354,\n",
              " 'recognition': 411672,\n",
              " 'latter': 291927,\n",
              " 'statesrottensteiner': 467101,\n",
              " 'quarber': 404557,\n",
              " 'merkur': 324741,\n",
              " 'language': 290404,\n",
              " 'critical': 144646,\n",
              " 'journal': 268398,\n",
              " '1963': 8369,\n",
              " '2004': 20271,\n",
              " 'occasion': 359207,\n",
              " 'hundredth': 246454,\n",
              " 'this': 490396,\n",
              " 'special': 462219,\n",
              " 'kurdlawitzpreis': 286951,\n",
              " 'henry': 235971,\n",
              " 'krvits': 285679,\n",
              " '30': 31492,\n",
              " '1974': 10144,\n",
              " 'tallinn': 480510,\n",
              " 'better': 87840,\n",
              " 'known': 281584,\n",
              " 'stagename': 465431,\n",
              " 'genka': 213985,\n",
              " 'estonian': 184842,\n",
              " 'rapper': 409143,\n",
              " 'record': 411863,\n",
              " 'producergenka': 398041,\n",
              " 'started': 466406,\n",
              " 'rapping': 409160,\n",
              " '1996': 16121,\n",
              " 'revo': 419114,\n",
              " 'dj': 164577,\n",
              " 'paul': 376599,\n",
              " 'oja': 361348,\n",
              " 'genkas': 213986,\n",
              " 'schoolmate': 436453,\n",
              " 'together': 494954,\n",
              " 'toe': 494879,\n",
              " 'tag': 479534,\n",
              " 'real': 410781,\n",
              " 'kuhnja': 286294,\n",
              " 'homophobes': 242002,\n",
              " 'next': 350426,\n",
              " 'joined': 267617,\n",
              " 'rap': 409024,\n",
              " 'group': 224758,\n",
              " 'arhm': 65441,\n",
              " 'went': 529005,\n",
              " 'vacation': 513898,\n",
              " 'making': 311023,\n",
              " 'own': 369667,\n",
              " 'solo': 458791,\n",
              " 'most': 336620,\n",
              " 'famous': 191766,\n",
              " 'hit': 239824,\n",
              " 'rapped': 409137,\n",
              " 'droopy': 169445,\n",
              " 'same': 431345,\n",
              " 'came': 108273,\n",
              " 'back': 76477,\n",
              " 'tour': 497260,\n",
              " 'second': 440185,\n",
              " 'studio': 471788,\n",
              " 'legendaarne': 295033,\n",
              " 'legendary': 295035,\n",
              " 'consisted': 137356,\n",
              " 'were': 529062,\n",
              " 'pankrot': 372679,\n",
              " 'bankruptcy': 79573,\n",
              " 'leegion': 294641,\n",
              " '23': 29258,\n",
              " 'palmisaar': 372042,\n",
              " 'palm': 371981,\n",
              " 'island': 260390,\n",
              " 'tugitooli': 503361,\n",
              " 'gangster': 211287,\n",
              " 'armchair': 65922,\n",
              " 'gangstergenka': 211289,\n",
              " 'company': 133984,\n",
              " 'records': 412102,\n",
              " 'warmup': 525518,\n",
              " 'performers': 379927,\n",
              " '50': 35606,\n",
              " 'cent': 115838,\n",
              " 'europe': 185983,\n",
              " 'promo': 399811,\n",
              " 'curtis': 147586,\n",
              " 'sam': 431187,\n",
              " 'henderson': 235761,\n",
              " 'cartoonist': 112726,\n",
              " 'writer': 537268,\n",
              " 'expert': 188780,\n",
              " 'comedy': 132280,\n",
              " 'historyhenderson': 239628,\n",
              " 'woodstock': 535120,\n",
              " 'attended': 71592,\n",
              " 'boiceville': 94560,\n",
              " 'yorks': 543620,\n",
              " 'onteora': 363743,\n",
              " 'high': 237742,\n",
              " 'school': 436241,\n",
              " 'graduating': 222073,\n",
              " '1987': 13220,\n",
              " 'visual': 521004,\n",
              " 'arts': 67716,\n",
              " 'city': 125723,\n",
              " '1991henderson': 14662,\n",
              " 'selfpublishing': 441881,\n",
              " 'xeroxed': 539449,\n",
              " 'minicomics': 329613,\n",
              " 'midtolate': 327855,\n",
              " '1980s': 11557,\n",
              " 'drew': 169025,\n",
              " 'published': 402141,\n",
              " 'comic': 132422,\n",
              " 'captain': 110612,\n",
              " 'spaz': 462085,\n",
              " 'friend': 206839,\n",
              " 'bobby': 93874,\n",
              " 'weiss': 528322,\n",
              " 'ended': 180021,\n",
              " '1988': 13494,\n",
              " 'busy': 105442,\n",
              " 'featuring': 193740,\n",
              " 'character': 119099,\n",
              " 'monroe': 334438,\n",
              " 'simmons': 451729,\n",
              " '1993': 15126,\n",
              " 'began': 84315,\n",
              " 'bestknown': 87570,\n",
              " 'title': 493802,\n",
              " 'magic': 309637,\n",
              " 'whistle': 530363,\n",
              " 'now': 356419,\n",
              " 'alternative': 55967,\n",
              " 'comics': 132453,\n",
              " 'wordless': 535338,\n",
              " 'strip': 471014,\n",
              " 'but': 105446,\n",
              " 'not': 355712,\n",
              " 'heard': 234157,\n",
              " 'starring': 466316,\n",
              " 'pink': 385002,\n",
              " 'man': 312156,\n",
              " 'red': 412571,\n",
              " 'bear': 83372,\n",
              " 'nickelodeon': 351130,\n",
              " 'magazine': 309255,\n",
              " 'magazines': 309447,\n",
              " 'longestrunning': 303633,\n",
              " 'collection': 130820,\n",
              " 'due': 170559,\n",
              " '2010in': 24908,\n",
              " 'review': 418878,\n",
              " 'bigger': 89314,\n",
              " 'larger': 291070,\n",
              " 'san': 431703,\n",
              " 'antonio': 62052,\n",
              " 'expressnews': 189154,\n",
              " 'wrote': 537746,\n",
              " 'hendersons': 235774,\n",
              " 'crude': 145581,\n",
              " 'blobby': 92564,\n",
              " 'little': 301265,\n",
              " 'scratchings': 438203,\n",
              " 'funniest': 208617,\n",
              " 'junk': 270021,\n",
              " 'turned': 504149,\n",
              " 'harvey': 232307,\n",
              " 'awards': 74748,\n",
              " 'humor': 246330,\n",
              " '19992004in': 17334,\n",
              " 'writing': 537561,\n",
              " 'storyboard': 469815,\n",
              " 'directing': 161845,\n",
              " 'spongebob': 463513,\n",
              " 'squarepants': 464514,\n",
              " 'earned': 172730,\n",
              " 'nomination': 353734,\n",
              " 'animated': 60181,\n",
              " 'program': 398889,\n",
              " 'programming': 399098,\n",
              " 'less': 296559,\n",
              " 'than': 487882,\n",
              " '55th': 36505,\n",
              " 'emmy': 179340,\n",
              " 'awardshis': 74884,\n",
              " 'earliest': 172648,\n",
              " 'reprinted': 416629,\n",
              " 'contained': 137898,\n",
              " '5009': 35661,\n",
              " 'toilets': 495073,\n",
              " 'penises': 378648,\n",
              " 'sic': 450218,\n",
              " 'asses': 69533,\n",
              " 'lives': 301564,\n",
              " 'hometown': 241882,\n",
              " 'yorksince': 543659,\n",
              " 'march': 314354,\n",
              " 'weekly': 527870,\n",
              " 'niblit': 350997,\n",
              " 'aaron': 42090,\n",
              " 'lacrate': 288655,\n",
              " 'music': 341055,\n",
              " 'producer': 397959,\n",
              " 'artist': 67216,\n",
              " 'fashion': 192689,\n",
              " 'designer': 157693,\n",
              " 'milkcrate': 328663,\n",
              " 'clothing': 128034,\n",
              " 'film': 197194,\n",
              " 'director': 161918,\n",
              " 'baltimore': 78636,\n",
              " 'grew': 223844,\n",
              " 'highlandtown': 237912,\n",
              " 'east': 172958,\n",
              " 'baltimoreaaron': 78638,\n",
              " 'credited': 143876,\n",
              " 'popularizing': 391386,\n",
              " 'culture': 146757,\n",
              " 'world': 535924,\n",
              " 'wide': 531024,\n",
              " 'level': 296939,\n",
              " 'via': 518261,\n",
              " 'ever': 186875,\n",
              " 'platinum': 386846,\n",
              " 'pop': 391078,\n",
              " 'star': 466087,\n",
              " 'dizzee': 164570,\n",
              " 'rascals': 409283,\n",
              " 'song': 459389,\n",
              " 'road': 422402,\n",
              " 'ragehbo': 407241,\n",
              " 'commissioned': 132951,\n",
              " 'athletics': 70989,\n",
              " 'create': 143716,\n",
              " 'official': 360513,\n",
              " 'range': 408703,\n",
              " 'based': 81367,\n",
              " 'cable': 106477,\n",
              " 'television': 485188,\n",
              " 'wire': 533086,\n",
              " 'hbo': 233647,\n",
              " 'collaborated': 130681,\n",
              " 'streetwear': 470679,\n",
              " 'baltimores': 78648,\n",
              " 'brandaaron': 98788,\n",
              " 'productions': 398290,\n",
              " 'success': 473110,\n",
              " 'lily': 299356,\n",
              " 'allen': 54400,\n",
              " 'amanda': 56531,\n",
              " 'blank': 92007,\n",
              " 'spank': 461881,\n",
              " 'rock': 422943,\n",
              " 'mndr': 332256,\n",
              " 'eliza': 178054,\n",
              " 'doolittleat': 166717,\n",
              " 'experimenting': 188770,\n",
              " 'diy': 164529,\n",
              " 'djing': 164691,\n",
              " 'nightclubs': 351591,\n",
              " 'house': 243914,\n",
              " 'parties': 374846,\n",
              " 'graffiti': 222128,\n",
              " 'even': 186589,\n",
              " 'custom': 147728,\n",
              " 'tshirts': 502735,\n",
              " 'basement': 81445,\n",
              " 'created': 143718,\n",
              " 'mixtapes': 331738,\n",
              " 'sold': 458494,\n",
              " 'throughout': 491337,\n",
              " 'youngest': 543924,\n",
              " 'attending': 71612,\n",
              " 'syracuse': 478295,\n",
              " 'took': 495915,\n",
              " 'over': 369039,\n",
              " 'campus': 108792,\n",
              " 'spent': 462793,\n",
              " 'summers': 474190,\n",
              " 'interning': 257651,\n",
              " 'def': 154214,\n",
              " 'jam': 263340,\n",
              " 'recordings': 411990,\n",
              " 'payday': 376972,\n",
              " 'rocafella': 422858,\n",
              " 'helping': 235503,\n",
              " 'launch': 292125,\n",
              " 'jayzs': 264736,\n",
              " 'reasonable': 411050,\n",
              " 'doubt': 167445,\n",
              " 'vital': 521073,\n",
              " 'role': 423823,\n",
              " 'hard': 231327,\n",
              " 'knock': 281411,\n",
              " 'exclusive': 187788,\n",
              " 'jay': 264591,\n",
              " 'fade': 190490,\n",
              " 'black': 91526,\n",
              " 'collaboration': 130687,\n",
              " 'tshirtin': 502733,\n",
              " '1999': 17278,\n",
              " 'sponsored': 463528,\n",
              " 'highly': 237944,\n",
              " 'successful': 473151,\n",
              " 'live': 301384,\n",
              " 'shows': 449371,\n",
              " 'nyc': 357964,\n",
              " 'nightclub': 351586,\n",
              " 'tramps': 498970,\n",
              " 'eminems': 179202,\n",
              " 'show': 449104,\n",
              " 'tribe': 500704,\n",
              " 'quest': 405140,\n",
              " 'rakim': 408006,\n",
              " 'slick': 455584,\n",
              " 'ricks': 420255,\n",
              " 'upon': 511582,\n",
              " 'prison': 396941,\n",
              " 'outkast': 368603,\n",
              " 'wutang': 538220,\n",
              " 'clan': 126490,\n",
              " 'epmd': 182631,\n",
              " 'ultramagnetic': 507380,\n",
              " 'mcs': 320981,\n",
              " 'historical': 239448,\n",
              " 'performanceslacrate': 379829,\n",
              " 'remixed': 415501,\n",
              " 'major': 310762,\n",
              " 'label': 288099,\n",
              " 'madonna': 308954,\n",
              " 'gorillaz': 220850,\n",
              " 'soulja': 460572,\n",
              " 'boy': 97993,\n",
              " 'tell': 485397,\n",
              " 'em': 178746,\n",
              " 'rascal': 409282,\n",
              " 'young': 543902,\n",
              " 'mc': 319554,\n",
              " 'cool': 139039,\n",
              " 'kids': 278107,\n",
              " 'tracks': 498377,\n",
              " 'lacrates': 288656,\n",
              " 'bmore': 93494,\n",
              " 'gutter': 227457,\n",
              " 'used': 512789,\n",
              " 'marc': 314311,\n",
              " 'jacobs': 262744,\n",
              " 'showlacrate': 449273,\n",
              " 'toured': 497362,\n",
              " 'mark': 315241,\n",
              " 'ronson': 424542,\n",
              " 'recently': 411459,\n",
              " 'kanye': 272771,\n",
              " 'developed': 158660,\n",
              " 'specialedition': 462230,\n",
              " 'collaborations': 130697,\n",
              " 'vans': 515173,\n",
              " 'colette': 130616,\n",
              " 'paris': 373883,\n",
              " 'jayz': 264731,\n",
              " 'cashmere': 113133,\n",
              " 'king': 278992,\n",
              " 'lucien': 305877,\n",
              " 'pellatfinet': 378242,\n",
              " 'cocacola': 129438,\n",
              " 'delicious': 155317,\n",
              " 'vinyl': 520230,\n",
              " 'dazed': 152264,\n",
              " 'confused': 136527,\n",
              " 'ferrariwhich': 195130,\n",
              " 'ferrari': 195121,\n",
              " 'featured': 193693,\n",
              " 'entourage': 181833,\n",
              " 'support': 475390,\n",
              " 'hero': 236606,\n",
              " 'videogame': 518958,\n",
              " 'soundtrack': 460850,\n",
              " 'observe': 359028,\n",
              " 'report': 416289,\n",
              " 'seth': 444596,\n",
              " 'rogenrecently': 423571,\n",
              " 'crack': 143194,\n",
              " 'features': 193712,\n",
              " 'mr': 338130,\n",
              " 'vegas': 516261,\n",
              " 'doolittle': 166716,\n",
              " 'local': 302416,\n",
              " 'artists': 67431,\n",
              " 'mz': 343063,\n",
              " 'streamz': 470554,\n",
              " 'verb': 517137,\n",
              " 'trevor': 500511,\n",
              " 'ferguson': 194925,\n",
              " 'john': 267446,\n",
              " 'farrow': 192584,\n",
              " '11': 1656,\n",
              " 'november': 356300,\n",
              " '1947': 7090,\n",
              " 'novelist': 356150,\n",
              " 'hudson': 245704,\n",
              " 'quebec': 404894,\n",
              " 'author': 73125,\n",
              " 'nine': 352169,\n",
              " 'novels': 356227,\n",
              " 'four': 204218,\n",
              " 'plays': 387581,\n",
              " 'starborn': 466106,\n",
              " 'seaforth': 438977,\n",
              " 'huron': 246774,\n",
              " 'county': 142105,\n",
              " 'ontario': 363662,\n",
              " 'raised': 407720,\n",
              " 'montreal': 334995,\n",
              " 'midteens': 327845,\n",
              " 'gravitated': 223006,\n",
              " 'towards': 497865,\n",
              " 'northwest': 355498,\n",
              " 'railway': 407559,\n",
              " 'gangs': 211278,\n",
              " 'write': 537247,\n",
              " 'night': 351556,\n",
              " 'bunkhousesin': 104253,\n",
              " 'twenties': 504898,\n",
              " 'travelled': 499833,\n",
              " 'returning': 418585,\n",
              " 'settled': 444710,\n",
              " 'driving': 169309,\n",
              " 'taxi': 482442,\n",
              " 'publication': 401906,\n",
              " 'novel': 356115,\n",
              " 'water': 526225,\n",
              " 'chants': 118894,\n",
              " '1977': 10722,\n",
              " 'dennis': 156464,\n",
              " 'lee': 294585,\n",
              " 'onyx': 363842,\n",
              " '1985': 12682,\n",
              " 'received': 411407,\n",
              " 'arguably': 65388,\n",
              " 'acclaim': 44140,\n",
              " 'literature': 301013,\n",
              " 'leon': 296158,\n",
              " 'rooke': 424584,\n",
              " 'twentieth': 504904,\n",
              " 'century': 116286,\n",
              " 'sixteen': 453772,\n",
              " 'would': 536775,\n",
              " 'become': 83926,\n",
              " 'bestseller': 87622,\n",
              " 'france': 204880,\n",
              " 'indeed': 252894,\n",
              " 'regarded': 413646,\n",
              " 'hes': 236971,\n",
              " 'often': 360797,\n",
              " 'cited': 125545,\n",
              " 'worlds': 536339,\n",
              " 'preeminent': 394699,\n",
              " 'writersextraordinary': 537462,\n",
              " 'praise': 394063,\n",
              " 'awaited': 74383,\n",
              " ...}"
            ]
          },
          "metadata": {
            "tags": []
          },
          "execution_count": 107
        }
      ]
    },
    {
      "metadata": {
        "id": "M6NKPUn-obi1",
        "colab_type": "text"
      },
      "cell_type": "markdown",
      "source": [
        "### 문장 하나를 벡터로 만들어 보자!\n",
        "\n",
        " 모든 문장을 이용하여 단어 사전을 만들어 두었다!\n",
        " \n",
        " 이제, 문장 하나를 단어 존재 여부를 이용하여 벡터로 만들 수 있다."
      ]
    },
    {
      "metadata": {
        "id": "pIqN6ZM-Kena",
        "colab_type": "code",
        "colab": {}
      },
      "cell_type": "code",
      "source": [
        "def simple_BOW_vector(id=0):\n",
        "    sample_array = word_bin.transform([people['text'][id]]).toarray()[0]\n",
        "    print('array 사이즈 : ', len(sample_array))\n",
        "    print('등장한 단어의 개수 : ', sum(sample_array==1))\n",
        "    print(sample_array)"
      ],
      "execution_count": 0,
      "outputs": []
    },
    {
      "metadata": {
        "id": "W3SJMkYsoQOE",
        "colab_type": "code",
        "colab": {
          "base_uri": "https://localhost:8080/",
          "height": 90
        },
        "outputId": "5b0d1d51-cdbb-4194-c4e7-713bd575a5f1"
      },
      "cell_type": "code",
      "source": [
        "simple_BOW_vector(4)"
      ],
      "execution_count": 109,
      "outputs": [
        {
          "output_type": "stream",
          "text": [
            "array 사이즈 :  548429\n",
            "등장한 단어의 개수 :  113\n",
            "[0 0 0 ... 0 0 0]\n"
          ],
          "name": "stdout"
        }
      ]
    },
    {
      "metadata": {
        "id": "fl5MriiYnw-C",
        "colab_type": "text"
      },
      "cell_type": "markdown",
      "source": [
        "### 문장들을 벡터로 만들어서 데이터 프레임에 붙일 수 있을까? -> 붙이지 말자!\n",
        "\n",
        "정말 궁금한 사람들은 아래의 코드를 실행해보자.\n",
        "\n",
        "메모리가 터지는 것을 관찰할 수 있다!\n",
        "\n",
        "```\n",
        "word_bin.transform(people['text'].toarray())\n",
        "```\n",
        "\n",
        "위에서 아래와 같은 코드를 사용했었다.\n",
        "\n",
        "```\n",
        "X_simple = word_bin.fit_transform(people['text'])\n",
        "```\n",
        "\n",
        "X_simple는 scipy.sparse.csr.csr_matrix 라고 위에서 확인했었는데,  사실 X가 우리가 원하는 그 메트릭스다!\n",
        "\n",
        "다만, 사이즈가 54만이 넘어가는 벡터에서 고작 단어 몇백개의 위치만 1이 되는 array를 그대로 생성하는 것은 메모리가 괴로워하기 때문에, 우리는 잘 압축된 메트릭스를 대신하여 사용한다.\n",
        "\n",
        "아래의 셀을 실행해보면 어떻게 된 것인지 감을 잡을 수 있다!"
      ]
    },
    {
      "metadata": {
        "id": "zCZHjdEyvh7q",
        "colab_type": "code",
        "colab": {
          "base_uri": "https://localhost:8080/",
          "height": 198
        },
        "outputId": "8c0337a5-8b8f-40d3-a3c7-6c5e4fe12089"
      },
      "cell_type": "code",
      "source": [
        "people.head(1)"
      ],
      "execution_count": 110,
      "outputs": [
        {
          "output_type": "execute_result",
          "data": {
            "text/html": [
              "<div>\n",
              "<style scoped>\n",
              "    .dataframe tbody tr th:only-of-type {\n",
              "        vertical-align: middle;\n",
              "    }\n",
              "\n",
              "    .dataframe tbody tr th {\n",
              "        vertical-align: top;\n",
              "    }\n",
              "\n",
              "    .dataframe thead th {\n",
              "        text-align: right;\n",
              "    }\n",
              "</style>\n",
              "<table border=\"1\" class=\"dataframe\">\n",
              "  <thead>\n",
              "    <tr style=\"text-align: right;\">\n",
              "      <th></th>\n",
              "      <th>name</th>\n",
              "      <th>text</th>\n",
              "    </tr>\n",
              "  </thead>\n",
              "  <tbody>\n",
              "    <tr>\n",
              "      <th>0</th>\n",
              "      <td>Digby Morrell</td>\n",
              "      <td>digby morrell born 10 october 1979 is a former...</td>\n",
              "    </tr>\n",
              "  </tbody>\n",
              "</table>\n",
              "</div>"
            ],
            "text/plain": [
              "            name                                               text\n",
              "0  Digby Morrell  digby morrell born 10 october 1979 is a former..."
            ]
          },
          "metadata": {
            "tags": []
          },
          "execution_count": 110
        }
      ]
    },
    {
      "metadata": {
        "id": "4y4JtXl8vtIR",
        "colab_type": "code",
        "colab": {
          "base_uri": "https://localhost:8080/",
          "height": 90
        },
        "outputId": "5c2da4e9-d2fb-428b-9ca9-521b591b5956"
      },
      "cell_type": "code",
      "source": [
        "simple_BOW_vector(0)"
      ],
      "execution_count": 111,
      "outputs": [
        {
          "output_type": "stream",
          "text": [
            "array 사이즈 :  548429\n",
            "등장한 단어의 개수 :  138\n",
            "[0 0 0 ... 0 0 0]\n"
          ],
          "name": "stdout"
        }
      ]
    },
    {
      "metadata": {
        "id": "bnOcO2yMvzNF",
        "colab_type": "code",
        "colab": {
          "base_uri": "https://localhost:8080/",
          "height": 54
        },
        "outputId": "a605d932-badd-4756-bb2b-c5ebe5475ae1"
      },
      "cell_type": "code",
      "source": [
        "X_simple[0,:].todense()"
      ],
      "execution_count": 112,
      "outputs": [
        {
          "output_type": "execute_result",
          "data": {
            "text/plain": [
              "matrix([[0, 0, 0, ..., 0, 0, 0]])"
            ]
          },
          "metadata": {
            "tags": []
          },
          "execution_count": 112
        }
      ]
    },
    {
      "metadata": {
        "id": "KHkibK31wADU",
        "colab_type": "code",
        "colab": {
          "base_uri": "https://localhost:8080/",
          "height": 54
        },
        "outputId": "5dc21e10-9186-4a64-c49e-ec4da48162d3"
      },
      "cell_type": "code",
      "source": [
        "X_simple[0,:].todense().sum()"
      ],
      "execution_count": 113,
      "outputs": [
        {
          "output_type": "execute_result",
          "data": {
            "text/plain": [
              "138"
            ]
          },
          "metadata": {
            "tags": []
          },
          "execution_count": 113
        }
      ]
    },
    {
      "metadata": {
        "id": "Gnfni16M3q-g",
        "colab_type": "code",
        "colab": {
          "base_uri": "https://localhost:8080/",
          "height": 934
        },
        "outputId": "40103be9-bb52-4fbd-fd23-a37ee127b465"
      },
      "cell_type": "code",
      "source": [
        "print(X_simple[0,:])"
      ],
      "execution_count": 114,
      "outputs": [
        {
          "output_type": "stream",
          "text": [
            "  (0, 323069)\t1\n",
            "  (0, 130972)\t1\n",
            "  (0, 373306)\t1\n",
            "  (0, 174843)\t1\n",
            "  (0, 383407)\t1\n",
            "  (0, 483084)\t1\n",
            "  (0, 147491)\t1\n",
            "  (0, 174268)\t1\n",
            "  (0, 55769)\t1\n",
            "  (0, 129425)\t1\n",
            "  (0, 128951)\t1\n",
            "  (0, 232352)\t1\n",
            "  (0, 27213)\t1\n",
            "  (0, 451997)\t1\n",
            "  (0, 395043)\t1\n",
            "  (0, 164271)\t1\n",
            "  (0, 395008)\t1\n",
            "  (0, 25312)\t1\n",
            "  (0, 163854)\t1\n",
            "  (0, 184523)\t1\n",
            "  (0, 470394)\t1\n",
            "  (0, 26651)\t1\n",
            "  (0, 511222)\t1\n",
            "  (0, 23789)\t1\n",
            "  (0, 207224)\t1\n",
            "  :\t:\n",
            "  (0, 239271)\t1\n",
            "  (0, 72734)\t1\n",
            "  (0, 529346)\t1\n",
            "  (0, 48415)\t1\n",
            "  (0, 293515)\t1\n",
            "  (0, 202189)\t1\n",
            "  (0, 251905)\t1\n",
            "  (0, 111950)\t1\n",
            "  (0, 58906)\t1\n",
            "  (0, 272528)\t1\n",
            "  (0, 488148)\t1\n",
            "  (0, 533439)\t1\n",
            "  (0, 386988)\t1\n",
            "  (0, 530685)\t1\n",
            "  (0, 202230)\t1\n",
            "  (0, 427313)\t1\n",
            "  (0, 72887)\t1\n",
            "  (0, 203171)\t1\n",
            "  (0, 259893)\t1\n",
            "  (0, 11143)\t1\n",
            "  (0, 359577)\t1\n",
            "  (0, 704)\t1\n",
            "  (0, 96612)\t1\n",
            "  (0, 336162)\t1\n",
            "  (0, 160652)\t1\n"
          ],
          "name": "stdout"
        }
      ]
    },
    {
      "metadata": {
        "id": "0WP7NkCwr0F9",
        "colab_type": "text"
      },
      "cell_type": "markdown",
      "source": [
        "### 우리는 sparse_matrix를 이용하여 그대로 nearest neighbors 도 해보고 클러스터링도 해볼 것이다!\n",
        "\n",
        "NearestNeighbor search를 해보자!"
      ]
    },
    {
      "metadata": {
        "id": "bMJE0UaTtkY8",
        "colab_type": "code",
        "colab": {}
      },
      "cell_type": "code",
      "source": [
        "from sklearn.neighbors import NearestNeighbors"
      ],
      "execution_count": 0,
      "outputs": []
    },
    {
      "metadata": {
        "id": "oygdzvtsty8i",
        "colab_type": "code",
        "colab": {}
      },
      "cell_type": "code",
      "source": [
        "nbrs_simple = NearestNeighbors(n_neighbors=6, metric='cosine').fit(X_simple)"
      ],
      "execution_count": 0,
      "outputs": []
    },
    {
      "metadata": {
        "id": "dOBawaqjzzFI",
        "colab_type": "code",
        "colab": {}
      },
      "cell_type": "code",
      "source": [
        "def nearest_search(name, nbrs = nbrs_simple):\n",
        "    queried_id = people.index[people['name']==name]\n",
        "    queried_array = X_simple[queried_id, :]\n",
        "    distances, indices = nbrs.kneighbors(queried_array)\n",
        "    temp_df = people.loc[indices.tolist()[0]]\n",
        "    temp_df['rank'] = [0,1,2,3,4,5]\n",
        "    distances = [ '{:.6f}'.format(elem) for elem in distances.tolist()[0]]\n",
        "    temp_df['distances'] = distances\n",
        "#     print(temp_df)\n",
        "    return(temp_df)\n",
        "    "
      ],
      "execution_count": 0,
      "outputs": []
    },
    {
      "metadata": {
        "id": "-nTouGZd5Ta1",
        "colab_type": "code",
        "colab": {
          "base_uri": "https://localhost:8080/",
          "height": 425
        },
        "outputId": "753efb46-569f-41f0-a321-a31e104dfcc7"
      },
      "cell_type": "code",
      "source": [
        "nearest_search(name = 'Angelina Jolie', nbrs = nbrs_simple).head(3)"
      ],
      "execution_count": 118,
      "outputs": [
        {
          "output_type": "execute_result",
          "data": {
            "text/html": [
              "<div>\n",
              "<style scoped>\n",
              "    .dataframe tbody tr th:only-of-type {\n",
              "        vertical-align: middle;\n",
              "    }\n",
              "\n",
              "    .dataframe tbody tr th {\n",
              "        vertical-align: top;\n",
              "    }\n",
              "\n",
              "    .dataframe thead th {\n",
              "        text-align: right;\n",
              "    }\n",
              "</style>\n",
              "<table border=\"1\" class=\"dataframe\">\n",
              "  <thead>\n",
              "    <tr style=\"text-align: right;\">\n",
              "      <th></th>\n",
              "      <th>name</th>\n",
              "      <th>text</th>\n",
              "      <th>rank</th>\n",
              "      <th>distances</th>\n",
              "    </tr>\n",
              "  </thead>\n",
              "  <tbody>\n",
              "    <tr>\n",
              "      <th>39521</th>\n",
              "      <td>Angelina Jolie</td>\n",
              "      <td>angelina jolie doli johlee born angelina jolie...</td>\n",
              "      <td>0</td>\n",
              "      <td>0.000000</td>\n",
              "    </tr>\n",
              "    <tr>\n",
              "      <th>24426</th>\n",
              "      <td>Brad Pitt</td>\n",
              "      <td>william bradley brad pitt born december 18 196...</td>\n",
              "      <td>1</td>\n",
              "      <td>0.643529</td>\n",
              "    </tr>\n",
              "    <tr>\n",
              "      <th>44992</th>\n",
              "      <td>Julianne Moore</td>\n",
              "      <td>julianne moore born julie anne smith december ...</td>\n",
              "      <td>2</td>\n",
              "      <td>0.660615</td>\n",
              "    </tr>\n",
              "  </tbody>\n",
              "</table>\n",
              "</div>"
            ],
            "text/plain": [
              "                 name                                               text  \\\n",
              "39521  Angelina Jolie  angelina jolie doli johlee born angelina jolie...   \n",
              "24426       Brad Pitt  william bradley brad pitt born december 18 196...   \n",
              "44992  Julianne Moore  julianne moore born julie anne smith december ...   \n",
              "\n",
              "       rank distances  \n",
              "39521     0  0.000000  \n",
              "24426     1  0.643529  \n",
              "44992     2  0.660615  "
            ]
          },
          "metadata": {
            "tags": []
          },
          "execution_count": 118
        }
      ]
    },
    {
      "metadata": {
        "id": "jqsXPBtK17Nn",
        "colab_type": "code",
        "colab": {
          "base_uri": "https://localhost:8080/",
          "height": 307
        },
        "outputId": "52d68d46-43be-43d0-92b9-d75be3006f59"
      },
      "cell_type": "code",
      "source": [
        "nearest_search(name = 'Victoria Beckham', nbrs = nbrs_simple).head(3)"
      ],
      "execution_count": 119,
      "outputs": [
        {
          "output_type": "execute_result",
          "data": {
            "text/html": [
              "<div>\n",
              "<style scoped>\n",
              "    .dataframe tbody tr th:only-of-type {\n",
              "        vertical-align: middle;\n",
              "    }\n",
              "\n",
              "    .dataframe tbody tr th {\n",
              "        vertical-align: top;\n",
              "    }\n",
              "\n",
              "    .dataframe thead th {\n",
              "        text-align: right;\n",
              "    }\n",
              "</style>\n",
              "<table border=\"1\" class=\"dataframe\">\n",
              "  <thead>\n",
              "    <tr style=\"text-align: right;\">\n",
              "      <th></th>\n",
              "      <th>name</th>\n",
              "      <th>text</th>\n",
              "      <th>rank</th>\n",
              "      <th>distances</th>\n",
              "    </tr>\n",
              "  </thead>\n",
              "  <tbody>\n",
              "    <tr>\n",
              "      <th>50411</th>\n",
              "      <td>Victoria Beckham</td>\n",
              "      <td>victoria caroline beckham ne adams born 17 apr...</td>\n",
              "      <td>0</td>\n",
              "      <td>0.000000</td>\n",
              "    </tr>\n",
              "    <tr>\n",
              "      <th>55821</th>\n",
              "      <td>Cheryl Cole</td>\n",
              "      <td>cheryl ann fernandezversini ne tweedy formerly...</td>\n",
              "      <td>1</td>\n",
              "      <td>0.664117</td>\n",
              "    </tr>\n",
              "    <tr>\n",
              "      <th>44581</th>\n",
              "      <td>Heidi Klum</td>\n",
              "      <td>heidi klum pronounced hadi klm born june 1 197...</td>\n",
              "      <td>2</td>\n",
              "      <td>0.682303</td>\n",
              "    </tr>\n",
              "  </tbody>\n",
              "</table>\n",
              "</div>"
            ],
            "text/plain": [
              "                   name                                               text  \\\n",
              "50411  Victoria Beckham  victoria caroline beckham ne adams born 17 apr...   \n",
              "55821       Cheryl Cole  cheryl ann fernandezversini ne tweedy formerly...   \n",
              "44581        Heidi Klum  heidi klum pronounced hadi klm born june 1 197...   \n",
              "\n",
              "       rank distances  \n",
              "50411     0  0.000000  \n",
              "55821     1  0.664117  \n",
              "44581     2  0.682303  "
            ]
          },
          "metadata": {
            "tags": []
          },
          "execution_count": 119
        }
      ]
    },
    {
      "metadata": {
        "id": "X-1b26KjygnO",
        "colab_type": "text"
      },
      "cell_type": "markdown",
      "source": [
        "## Bag of Words Count ver\n",
        "\n",
        "이제는 Bag of Words를 단어 수로 구현해보자!"
      ]
    },
    {
      "metadata": {
        "id": "oRMkE3HmyY4_",
        "colab_type": "code",
        "colab": {}
      },
      "cell_type": "code",
      "source": [
        "'''\n",
        "Library Loading\n",
        "'''\n",
        "\n",
        "import sklearn.feature_extraction.text as text"
      ],
      "execution_count": 0,
      "outputs": []
    },
    {
      "metadata": {
        "id": "Do3loJ_v7H6S",
        "colab_type": "text"
      },
      "cell_type": "markdown",
      "source": [
        "위에서는 아래와 같은 코드를 사용했다\n",
        "```\n",
        "word_bin = text.CountVectorizer(binary = True)\n",
        "```\n",
        "\n",
        "binary = True 가 되면, 단어의 등장 여부를 가지고 vector를 만들지만,\n",
        "\n",
        "binary = False로 해두면, 단어의 등장 빈도를 이용하여 vector를 만든다."
      ]
    },
    {
      "metadata": {
        "id": "eBXlA7wlyOgn",
        "colab_type": "code",
        "colab": {}
      },
      "cell_type": "code",
      "source": [
        "word_count = text.CountVectorizer(binary = False)\n",
        "X_count = word_count.fit_transform(people['text'])"
      ],
      "execution_count": 0,
      "outputs": []
    },
    {
      "metadata": {
        "id": "8N_iAO9vyLr5",
        "colab_type": "code",
        "colab": {
          "base_uri": "https://localhost:8080/",
          "height": 77
        },
        "outputId": "cdcb3295-aa66-4009-fcfc-b7e5edef67d3"
      },
      "cell_type": "code",
      "source": [
        "people.head(1)"
      ],
      "execution_count": 122,
      "outputs": [
        {
          "output_type": "execute_result",
          "data": {
            "text/html": [
              "<div>\n",
              "<style scoped>\n",
              "    .dataframe tbody tr th:only-of-type {\n",
              "        vertical-align: middle;\n",
              "    }\n",
              "\n",
              "    .dataframe tbody tr th {\n",
              "        vertical-align: top;\n",
              "    }\n",
              "\n",
              "    .dataframe thead th {\n",
              "        text-align: right;\n",
              "    }\n",
              "</style>\n",
              "<table border=\"1\" class=\"dataframe\">\n",
              "  <thead>\n",
              "    <tr style=\"text-align: right;\">\n",
              "      <th></th>\n",
              "      <th>name</th>\n",
              "      <th>text</th>\n",
              "    </tr>\n",
              "  </thead>\n",
              "  <tbody>\n",
              "    <tr>\n",
              "      <th>0</th>\n",
              "      <td>Digby Morrell</td>\n",
              "      <td>digby morrell born 10 october 1979 is a former...</td>\n",
              "    </tr>\n",
              "  </tbody>\n",
              "</table>\n",
              "</div>"
            ],
            "text/plain": [
              "            name                                               text\n",
              "0  Digby Morrell  digby morrell born 10 october 1979 is a former..."
            ]
          },
          "metadata": {
            "tags": []
          },
          "execution_count": 122
        }
      ]
    },
    {
      "metadata": {
        "id": "YxX935Ck7zJS",
        "colab_type": "code",
        "colab": {
          "base_uri": "https://localhost:8080/",
          "height": 70
        },
        "outputId": "f0d5a278-ca94-4be0-8e5a-38b30b5420b7"
      },
      "cell_type": "code",
      "source": [
        "simple_BOW_vector(0)"
      ],
      "execution_count": 123,
      "outputs": [
        {
          "output_type": "stream",
          "text": [
            "array 사이즈 :  548429\n",
            "등장한 단어의 개수 :  138\n",
            "[0 0 0 ... 0 0 0]\n"
          ],
          "name": "stdout"
        }
      ]
    },
    {
      "metadata": {
        "id": "nvevBbjo71ff",
        "colab_type": "code",
        "colab": {
          "base_uri": "https://localhost:8080/",
          "height": 34
        },
        "outputId": "efc81eee-877a-495b-baed-e2b3ad439d1b"
      },
      "cell_type": "code",
      "source": [
        "X_count[0,:].todense()"
      ],
      "execution_count": 124,
      "outputs": [
        {
          "output_type": "execute_result",
          "data": {
            "text/plain": [
              "matrix([[0, 0, 0, ..., 0, 0, 0]])"
            ]
          },
          "metadata": {
            "tags": []
          },
          "execution_count": 124
        }
      ]
    },
    {
      "metadata": {
        "id": "PvGf4GId75hM",
        "colab_type": "code",
        "colab": {
          "base_uri": "https://localhost:8080/",
          "height": 52
        },
        "outputId": "c2e86d8e-8f45-42cc-a5e6-49984135c8a3"
      },
      "cell_type": "code",
      "source": [
        "print('총 단어 등장 수 :', X_count[0,:].todense().sum())\n",
        "print('등장한 단어의 수 :', X_simple[0,:].todense().sum())"
      ],
      "execution_count": 127,
      "outputs": [
        {
          "output_type": "stream",
          "text": [
            "총 단어 등장 수 : 247\n",
            "등장한 단어의 수 : 138\n"
          ],
          "name": "stdout"
        }
      ]
    },
    {
      "metadata": {
        "id": "YyGrIqTy8OtH",
        "colab_type": "text"
      },
      "cell_type": "markdown",
      "source": [
        "Bag of Words 가  등장여부에서 단어횟수로 더 정교화 되었다!\n",
        "\n",
        "Nearest Neighbor search해보자!"
      ]
    },
    {
      "metadata": {
        "id": "JU145jfH86y2",
        "colab_type": "code",
        "colab": {}
      },
      "cell_type": "code",
      "source": [
        "from sklearn.neighbors import NearestNeighbors"
      ],
      "execution_count": 0,
      "outputs": []
    },
    {
      "metadata": {
        "id": "_-Uat0Xj8-bb",
        "colab_type": "code",
        "colab": {}
      },
      "cell_type": "code",
      "source": [
        "nbrs_count = NearestNeighbors(n_neighbors=6, metric='cosine').fit(X_count)"
      ],
      "execution_count": 0,
      "outputs": []
    },
    {
      "metadata": {
        "id": "AbD38aaK9GRF",
        "colab_type": "code",
        "colab": {
          "base_uri": "https://localhost:8080/",
          "height": 326
        },
        "outputId": "9ffacd3c-16f6-42cc-b146-eb9ec31f821b"
      },
      "cell_type": "code",
      "source": [
        "nearest_search(name='Angelina Jolie', nbrs = nbrs_count)"
      ],
      "execution_count": 134,
      "outputs": [
        {
          "output_type": "execute_result",
          "data": {
            "text/html": [
              "<div>\n",
              "<style scoped>\n",
              "    .dataframe tbody tr th:only-of-type {\n",
              "        vertical-align: middle;\n",
              "    }\n",
              "\n",
              "    .dataframe tbody tr th {\n",
              "        vertical-align: top;\n",
              "    }\n",
              "\n",
              "    .dataframe thead th {\n",
              "        text-align: right;\n",
              "    }\n",
              "</style>\n",
              "<table border=\"1\" class=\"dataframe\">\n",
              "  <thead>\n",
              "    <tr style=\"text-align: right;\">\n",
              "      <th></th>\n",
              "      <th>name</th>\n",
              "      <th>text</th>\n",
              "      <th>rank</th>\n",
              "      <th>distances</th>\n",
              "    </tr>\n",
              "  </thead>\n",
              "  <tbody>\n",
              "    <tr>\n",
              "      <th>39521</th>\n",
              "      <td>Angelina Jolie</td>\n",
              "      <td>angelina jolie doli johlee born angelina jolie...</td>\n",
              "      <td>0</td>\n",
              "      <td>0.380134</td>\n",
              "    </tr>\n",
              "    <tr>\n",
              "      <th>29562</th>\n",
              "      <td>Felicity Huffman</td>\n",
              "      <td>felicity kendall huffman born december 9 1962 ...</td>\n",
              "      <td>1</td>\n",
              "      <td>0.643617</td>\n",
              "    </tr>\n",
              "    <tr>\n",
              "      <th>11000</th>\n",
              "      <td>Michelle Williams (actress)</td>\n",
              "      <td>michelle ingrid williams born september 9 1980...</td>\n",
              "      <td>2</td>\n",
              "      <td>0.675335</td>\n",
              "    </tr>\n",
              "    <tr>\n",
              "      <th>44992</th>\n",
              "      <td>Julianne Moore</td>\n",
              "      <td>julianne moore born julie anne smith december ...</td>\n",
              "      <td>3</td>\n",
              "      <td>0.676172</td>\n",
              "    </tr>\n",
              "    <tr>\n",
              "      <th>25016</th>\n",
              "      <td>Samantha Morton</td>\n",
              "      <td>samantha jane morton born 13 may 1977 is an en...</td>\n",
              "      <td>4</td>\n",
              "      <td>0.678581</td>\n",
              "    </tr>\n",
              "    <tr>\n",
              "      <th>50619</th>\n",
              "      <td>Jessica Chastain</td>\n",
              "      <td>jessica michelle chastain born march 24 1977 i...</td>\n",
              "      <td>5</td>\n",
              "      <td>0.678949</td>\n",
              "    </tr>\n",
              "  </tbody>\n",
              "</table>\n",
              "</div>"
            ],
            "text/plain": [
              "                              name  \\\n",
              "39521               Angelina Jolie   \n",
              "29562             Felicity Huffman   \n",
              "11000  Michelle Williams (actress)   \n",
              "44992               Julianne Moore   \n",
              "25016              Samantha Morton   \n",
              "50619             Jessica Chastain   \n",
              "\n",
              "                                                    text  rank distances  \n",
              "39521  angelina jolie doli johlee born angelina jolie...     0  0.380134  \n",
              "29562  felicity kendall huffman born december 9 1962 ...     1  0.643617  \n",
              "11000  michelle ingrid williams born september 9 1980...     2  0.675335  \n",
              "44992  julianne moore born julie anne smith december ...     3  0.676172  \n",
              "25016  samantha jane morton born 13 may 1977 is an en...     4  0.678581  \n",
              "50619  jessica michelle chastain born march 24 1977 i...     5  0.678949  "
            ]
          },
          "metadata": {
            "tags": []
          },
          "execution_count": 134
        }
      ]
    },
    {
      "metadata": {
        "id": "e-1Fqnon9MUd",
        "colab_type": "code",
        "colab": {
          "base_uri": "https://localhost:8080/",
          "height": 292
        },
        "outputId": "45924ec8-a06e-4065-d283-4416235355c6"
      },
      "cell_type": "code",
      "source": [
        "nearest_search(name='Angelina Jolie', nbrs = nbrs_simple)"
      ],
      "execution_count": 135,
      "outputs": [
        {
          "output_type": "execute_result",
          "data": {
            "text/html": [
              "<div>\n",
              "<style scoped>\n",
              "    .dataframe tbody tr th:only-of-type {\n",
              "        vertical-align: middle;\n",
              "    }\n",
              "\n",
              "    .dataframe tbody tr th {\n",
              "        vertical-align: top;\n",
              "    }\n",
              "\n",
              "    .dataframe thead th {\n",
              "        text-align: right;\n",
              "    }\n",
              "</style>\n",
              "<table border=\"1\" class=\"dataframe\">\n",
              "  <thead>\n",
              "    <tr style=\"text-align: right;\">\n",
              "      <th></th>\n",
              "      <th>name</th>\n",
              "      <th>text</th>\n",
              "      <th>rank</th>\n",
              "      <th>distances</th>\n",
              "    </tr>\n",
              "  </thead>\n",
              "  <tbody>\n",
              "    <tr>\n",
              "      <th>39521</th>\n",
              "      <td>Angelina Jolie</td>\n",
              "      <td>angelina jolie doli johlee born angelina jolie...</td>\n",
              "      <td>0</td>\n",
              "      <td>0.000000</td>\n",
              "    </tr>\n",
              "    <tr>\n",
              "      <th>24426</th>\n",
              "      <td>Brad Pitt</td>\n",
              "      <td>william bradley brad pitt born december 18 196...</td>\n",
              "      <td>1</td>\n",
              "      <td>0.643529</td>\n",
              "    </tr>\n",
              "    <tr>\n",
              "      <th>44992</th>\n",
              "      <td>Julianne Moore</td>\n",
              "      <td>julianne moore born julie anne smith december ...</td>\n",
              "      <td>2</td>\n",
              "      <td>0.660615</td>\n",
              "    </tr>\n",
              "    <tr>\n",
              "      <th>29562</th>\n",
              "      <td>Felicity Huffman</td>\n",
              "      <td>felicity kendall huffman born december 9 1962 ...</td>\n",
              "      <td>3</td>\n",
              "      <td>0.661333</td>\n",
              "    </tr>\n",
              "    <tr>\n",
              "      <th>21644</th>\n",
              "      <td>Jodie Foster</td>\n",
              "      <td>alicia christian foster born november 19 1962 ...</td>\n",
              "      <td>4</td>\n",
              "      <td>0.671561</td>\n",
              "    </tr>\n",
              "    <tr>\n",
              "      <th>38514</th>\n",
              "      <td>George Clooney</td>\n",
              "      <td>george timothy clooney born may 6 1961 is an a...</td>\n",
              "      <td>5</td>\n",
              "      <td>0.673001</td>\n",
              "    </tr>\n",
              "  </tbody>\n",
              "</table>\n",
              "</div>"
            ],
            "text/plain": [
              "                   name                                               text  \\\n",
              "39521    Angelina Jolie  angelina jolie doli johlee born angelina jolie...   \n",
              "24426         Brad Pitt  william bradley brad pitt born december 18 196...   \n",
              "44992    Julianne Moore  julianne moore born julie anne smith december ...   \n",
              "29562  Felicity Huffman  felicity kendall huffman born december 9 1962 ...   \n",
              "21644      Jodie Foster  alicia christian foster born november 19 1962 ...   \n",
              "38514    George Clooney  george timothy clooney born may 6 1961 is an a...   \n",
              "\n",
              "       rank distances  \n",
              "39521     0  0.000000  \n",
              "24426     1  0.643529  \n",
              "44992     2  0.660615  \n",
              "29562     3  0.661333  \n",
              "21644     4  0.671561  \n",
              "38514     5  0.673001  "
            ]
          },
          "metadata": {
            "tags": []
          },
          "execution_count": 135
        }
      ]
    },
    {
      "metadata": {
        "id": "mC9gVq2Q9TJJ",
        "colab_type": "code",
        "colab": {
          "base_uri": "https://localhost:8080/",
          "height": 326
        },
        "outputId": "eec19d5a-c90d-4af0-de06-43c39f8f7b90"
      },
      "cell_type": "code",
      "source": [
        "nearest_search(name='Victoria Beckham', nbrs = nbrs_count)"
      ],
      "execution_count": 136,
      "outputs": [
        {
          "output_type": "execute_result",
          "data": {
            "text/html": [
              "<div>\n",
              "<style scoped>\n",
              "    .dataframe tbody tr th:only-of-type {\n",
              "        vertical-align: middle;\n",
              "    }\n",
              "\n",
              "    .dataframe tbody tr th {\n",
              "        vertical-align: top;\n",
              "    }\n",
              "\n",
              "    .dataframe thead th {\n",
              "        text-align: right;\n",
              "    }\n",
              "</style>\n",
              "<table border=\"1\" class=\"dataframe\">\n",
              "  <thead>\n",
              "    <tr style=\"text-align: right;\">\n",
              "      <th></th>\n",
              "      <th>name</th>\n",
              "      <th>text</th>\n",
              "      <th>rank</th>\n",
              "      <th>distances</th>\n",
              "    </tr>\n",
              "  </thead>\n",
              "  <tbody>\n",
              "    <tr>\n",
              "      <th>50411</th>\n",
              "      <td>Victoria Beckham</td>\n",
              "      <td>victoria caroline beckham ne adams born 17 apr...</td>\n",
              "      <td>0</td>\n",
              "      <td>0.380494</td>\n",
              "    </tr>\n",
              "    <tr>\n",
              "      <th>44581</th>\n",
              "      <td>Heidi Klum</td>\n",
              "      <td>heidi klum pronounced hadi klm born june 1 197...</td>\n",
              "      <td>1</td>\n",
              "      <td>0.660855</td>\n",
              "    </tr>\n",
              "    <tr>\n",
              "      <th>26660</th>\n",
              "      <td>Jenna Jameson</td>\n",
              "      <td>jenna jameson born jenna marie massoli april 9...</td>\n",
              "      <td>2</td>\n",
              "      <td>0.672028</td>\n",
              "    </tr>\n",
              "    <tr>\n",
              "      <th>53094</th>\n",
              "      <td>Kate Moss</td>\n",
              "      <td>kate moss born 16 january 1974 is an english m...</td>\n",
              "      <td>3</td>\n",
              "      <td>0.679885</td>\n",
              "    </tr>\n",
              "    <tr>\n",
              "      <th>40505</th>\n",
              "      <td>Madonna (entertainer)</td>\n",
              "      <td>madonna louise ciccone tkoni born august 16 19...</td>\n",
              "      <td>4</td>\n",
              "      <td>0.683194</td>\n",
              "    </tr>\n",
              "    <tr>\n",
              "      <th>15798</th>\n",
              "      <td>K'Lee</td>\n",
              "      <td>kaleena renae mcnabb born 1984 better known by...</td>\n",
              "      <td>5</td>\n",
              "      <td>0.683382</td>\n",
              "    </tr>\n",
              "  </tbody>\n",
              "</table>\n",
              "</div>"
            ],
            "text/plain": [
              "                        name  \\\n",
              "50411       Victoria Beckham   \n",
              "44581             Heidi Klum   \n",
              "26660          Jenna Jameson   \n",
              "53094              Kate Moss   \n",
              "40505  Madonna (entertainer)   \n",
              "15798                  K'Lee   \n",
              "\n",
              "                                                    text  rank distances  \n",
              "50411  victoria caroline beckham ne adams born 17 apr...     0  0.380494  \n",
              "44581  heidi klum pronounced hadi klm born june 1 197...     1  0.660855  \n",
              "26660  jenna jameson born jenna marie massoli april 9...     2  0.672028  \n",
              "53094  kate moss born 16 january 1974 is an english m...     3  0.679885  \n",
              "40505  madonna louise ciccone tkoni born august 16 19...     4  0.683194  \n",
              "15798  kaleena renae mcnabb born 1984 better known by...     5  0.683382  "
            ]
          },
          "metadata": {
            "tags": []
          },
          "execution_count": 136
        }
      ]
    },
    {
      "metadata": {
        "id": "HIrwo9MS9oRi",
        "colab_type": "code",
        "colab": {
          "base_uri": "https://localhost:8080/",
          "height": 326
        },
        "outputId": "5065b49b-cc5e-4ac8-b21d-2357018f830c"
      },
      "cell_type": "code",
      "source": [
        "nearest_search(name='Victoria Beckham', nbrs = nbrs_simple)"
      ],
      "execution_count": 137,
      "outputs": [
        {
          "output_type": "execute_result",
          "data": {
            "text/html": [
              "<div>\n",
              "<style scoped>\n",
              "    .dataframe tbody tr th:only-of-type {\n",
              "        vertical-align: middle;\n",
              "    }\n",
              "\n",
              "    .dataframe tbody tr th {\n",
              "        vertical-align: top;\n",
              "    }\n",
              "\n",
              "    .dataframe thead th {\n",
              "        text-align: right;\n",
              "    }\n",
              "</style>\n",
              "<table border=\"1\" class=\"dataframe\">\n",
              "  <thead>\n",
              "    <tr style=\"text-align: right;\">\n",
              "      <th></th>\n",
              "      <th>name</th>\n",
              "      <th>text</th>\n",
              "      <th>rank</th>\n",
              "      <th>distances</th>\n",
              "    </tr>\n",
              "  </thead>\n",
              "  <tbody>\n",
              "    <tr>\n",
              "      <th>50411</th>\n",
              "      <td>Victoria Beckham</td>\n",
              "      <td>victoria caroline beckham ne adams born 17 apr...</td>\n",
              "      <td>0</td>\n",
              "      <td>0.000000</td>\n",
              "    </tr>\n",
              "    <tr>\n",
              "      <th>55821</th>\n",
              "      <td>Cheryl Cole</td>\n",
              "      <td>cheryl ann fernandezversini ne tweedy formerly...</td>\n",
              "      <td>1</td>\n",
              "      <td>0.664117</td>\n",
              "    </tr>\n",
              "    <tr>\n",
              "      <th>44581</th>\n",
              "      <td>Heidi Klum</td>\n",
              "      <td>heidi klum pronounced hadi klm born june 1 197...</td>\n",
              "      <td>2</td>\n",
              "      <td>0.682303</td>\n",
              "    </tr>\n",
              "    <tr>\n",
              "      <th>5168</th>\n",
              "      <td>Simon Fuller</td>\n",
              "      <td>simon fuller born 17 may 1960 is an english en...</td>\n",
              "      <td>3</td>\n",
              "      <td>0.701995</td>\n",
              "    </tr>\n",
              "    <tr>\n",
              "      <th>27793</th>\n",
              "      <td>Adele</td>\n",
              "      <td>adele laurie blue adkins mbe born 5 may 1988 k...</td>\n",
              "      <td>4</td>\n",
              "      <td>0.704347</td>\n",
              "    </tr>\n",
              "    <tr>\n",
              "      <th>17264</th>\n",
              "      <td>Mel B</td>\n",
              "      <td>melanie janine brown born 29 may 1975 better k...</td>\n",
              "      <td>5</td>\n",
              "      <td>0.706237</td>\n",
              "    </tr>\n",
              "  </tbody>\n",
              "</table>\n",
              "</div>"
            ],
            "text/plain": [
              "                   name                                               text  \\\n",
              "50411  Victoria Beckham  victoria caroline beckham ne adams born 17 apr...   \n",
              "55821       Cheryl Cole  cheryl ann fernandezversini ne tweedy formerly...   \n",
              "44581        Heidi Klum  heidi klum pronounced hadi klm born june 1 197...   \n",
              "5168       Simon Fuller  simon fuller born 17 may 1960 is an english en...   \n",
              "27793             Adele  adele laurie blue adkins mbe born 5 may 1988 k...   \n",
              "17264             Mel B  melanie janine brown born 29 may 1975 better k...   \n",
              "\n",
              "       rank distances  \n",
              "50411     0  0.000000  \n",
              "55821     1  0.664117  \n",
              "44581     2  0.682303  \n",
              "5168      3  0.701995  \n",
              "27793     4  0.704347  \n",
              "17264     5  0.706237  "
            ]
          },
          "metadata": {
            "tags": []
          },
          "execution_count": 137
        }
      ]
    },
    {
      "metadata": {
        "id": "A6x4Tvtn9rMB",
        "colab_type": "code",
        "colab": {}
      },
      "cell_type": "code",
      "source": [
        ""
      ],
      "execution_count": 0,
      "outputs": []
    }
  ]
}