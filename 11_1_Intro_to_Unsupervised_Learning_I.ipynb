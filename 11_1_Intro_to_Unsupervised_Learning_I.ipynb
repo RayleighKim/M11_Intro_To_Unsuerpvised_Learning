{
  "nbformat": 4,
  "nbformat_minor": 0,
  "metadata": {
    "colab": {
      "name": "11_1_Intro_to_Unsupervised_Learning_I.ipynb",
      "version": "0.3.2",
      "provenance": [],
      "collapsed_sections": [],
      "include_colab_link": true
    },
    "kernelspec": {
      "name": "python3",
      "display_name": "Python 3"
    }
  },
  "cells": [
    {
      "cell_type": "markdown",
      "metadata": {
        "id": "view-in-github",
        "colab_type": "text"
      },
      "source": [
        "[View in Colaboratory](https://colab.research.google.com/github/RayleighKim/M11_Intro_To_Unsuerpvised_Learning/blob/master/11_1_Intro_to_Unsupervised_Learning_I.ipynb)"
      ]
    },
    {
      "metadata": {
        "id": "cVB9pY-v8uv5",
        "colab_type": "text"
      },
      "cell_type": "markdown",
      "source": [
        "# Intro to Unsupervised Learning\n",
        "\n",
        "## Text Retrieval Problem\n",
        "\n",
        "### Your name :     \n",
        "\n",
        "### Data Link :\n",
        "* [DBpedia](https://wiki.dbpedia.org/)\n",
        "* [Dataset](https://media.githubusercontent.com/media/RayleighKim/Example_datasets/master/People_wiki.csv)\n",
        "\n",
        "#### 실습목표 I<br>\n",
        "1. TF-IDF를 이해한다.\n",
        "2. Scikit-Learn을 이용하여 클러스터링을 할 줄 안다.\n",
        "\n",
        "#### 실습목표 II<br>\n",
        "1. 문제의 구조를 정교화 하기 위해 발전한 과정의 흐름을 안다.\n",
        "---------------\n",
        "Rayleigh Kim @ D:plus\n"
      ]
    },
    {
      "metadata": {
        "id": "GVvCef6A8uv6",
        "colab_type": "code",
        "colab": {
          "base_uri": "https://localhost:8080/",
          "height": 54
        },
        "outputId": "7f059b38-834f-47cc-886d-4e42f8148e1e"
      },
      "cell_type": "code",
      "source": [
        "'''\n",
        "라이브러리들을 불러오자.\n",
        "'''\n",
        "import numpy as np\n",
        "import pandas as pd\n",
        "'''\n",
        "사이킷런의 라이브러리들을 미리 불러두는 것도 좋지만,\n",
        "세부적인 메쏘드가 너무 많아서 필요한것만 불러오도록 할 것이다.\n",
        "'''\n"
      ],
      "execution_count": 1,
      "outputs": [
        {
          "output_type": "execute_result",
          "data": {
            "text/plain": [
              "'\\n사이킷런의 라이브러리들을 미리 불러두는 것도 좋지만,\\n세부적인 메쏘드가 너무 많아서 필요한것만 불러오도록 할 것이다.\\n'"
            ]
          },
          "metadata": {
            "tags": []
          },
          "execution_count": 1
        }
      ]
    },
    {
      "metadata": {
        "id": "3cKmWSTZ8uwC",
        "colab_type": "text"
      },
      "cell_type": "markdown",
      "source": [
        "## Load and Prepare the data"
      ]
    },
    {
      "metadata": {
        "id": "Vqr7zY5r8uwC",
        "colab_type": "code",
        "colab": {}
      },
      "cell_type": "code",
      "source": [
        "data_path = 'https://media.githubusercontent.com/media/RayleighKim/Example_datasets/master/People_wiki.csv'\n",
        "people = pd.read_csv(data_path)"
      ],
      "execution_count": 0,
      "outputs": []
    },
    {
      "metadata": {
        "id": "p-x3msyAq6-z",
        "colab_type": "code",
        "colab": {
          "base_uri": "https://localhost:8080/",
          "height": 34
        },
        "outputId": "86987392-2943-4fff-a9a4-18557e9b42a0"
      },
      "cell_type": "code",
      "source": [
        "len(people)"
      ],
      "execution_count": 3,
      "outputs": [
        {
          "output_type": "execute_result",
          "data": {
            "text/plain": [
              "59071"
            ]
          },
          "metadata": {
            "tags": []
          },
          "execution_count": 3
        }
      ]
    },
    {
      "metadata": {
        "id": "Wzs1nS348uwE",
        "colab_type": "code",
        "colab": {
          "base_uri": "https://localhost:8080/",
          "height": 363
        },
        "outputId": "0e0530ba-576b-400e-e129-6d2d470da817"
      },
      "cell_type": "code",
      "source": [
        "people.head()"
      ],
      "execution_count": 4,
      "outputs": [
        {
          "output_type": "execute_result",
          "data": {
            "text/html": [
              "<div>\n",
              "<style scoped>\n",
              "    .dataframe tbody tr th:only-of-type {\n",
              "        vertical-align: middle;\n",
              "    }\n",
              "\n",
              "    .dataframe tbody tr th {\n",
              "        vertical-align: top;\n",
              "    }\n",
              "\n",
              "    .dataframe thead th {\n",
              "        text-align: right;\n",
              "    }\n",
              "</style>\n",
              "<table border=\"1\" class=\"dataframe\">\n",
              "  <thead>\n",
              "    <tr style=\"text-align: right;\">\n",
              "      <th></th>\n",
              "      <th>URI</th>\n",
              "      <th>name</th>\n",
              "      <th>text</th>\n",
              "    </tr>\n",
              "  </thead>\n",
              "  <tbody>\n",
              "    <tr>\n",
              "      <th>0</th>\n",
              "      <td>&lt;http://dbpedia.org/resource/Digby_Morrell&gt;</td>\n",
              "      <td>Digby Morrell</td>\n",
              "      <td>digby morrell born 10 october 1979 is a former...</td>\n",
              "    </tr>\n",
              "    <tr>\n",
              "      <th>1</th>\n",
              "      <td>&lt;http://dbpedia.org/resource/Alfred_J._Lewy&gt;</td>\n",
              "      <td>Alfred J. Lewy</td>\n",
              "      <td>alfred j lewy aka sandy lewy graduated from un...</td>\n",
              "    </tr>\n",
              "    <tr>\n",
              "      <th>2</th>\n",
              "      <td>&lt;http://dbpedia.org/resource/Harpdog_Brown&gt;</td>\n",
              "      <td>Harpdog Brown</td>\n",
              "      <td>harpdog brown is a singer and harmonica player...</td>\n",
              "    </tr>\n",
              "    <tr>\n",
              "      <th>3</th>\n",
              "      <td>&lt;http://dbpedia.org/resource/Franz_Rottensteiner&gt;</td>\n",
              "      <td>Franz Rottensteiner</td>\n",
              "      <td>franz rottensteiner born in waidmannsfeld lowe...</td>\n",
              "    </tr>\n",
              "    <tr>\n",
              "      <th>4</th>\n",
              "      <td>&lt;http://dbpedia.org/resource/G-Enka&gt;</td>\n",
              "      <td>G-Enka</td>\n",
              "      <td>henry krvits born 30 december 1974 in tallinn ...</td>\n",
              "    </tr>\n",
              "  </tbody>\n",
              "</table>\n",
              "</div>"
            ],
            "text/plain": [
              "                                                 URI                 name  \\\n",
              "0        <http://dbpedia.org/resource/Digby_Morrell>        Digby Morrell   \n",
              "1       <http://dbpedia.org/resource/Alfred_J._Lewy>       Alfred J. Lewy   \n",
              "2        <http://dbpedia.org/resource/Harpdog_Brown>        Harpdog Brown   \n",
              "3  <http://dbpedia.org/resource/Franz_Rottensteiner>  Franz Rottensteiner   \n",
              "4               <http://dbpedia.org/resource/G-Enka>               G-Enka   \n",
              "\n",
              "                                                text  \n",
              "0  digby morrell born 10 october 1979 is a former...  \n",
              "1  alfred j lewy aka sandy lewy graduated from un...  \n",
              "2  harpdog brown is a singer and harmonica player...  \n",
              "3  franz rottensteiner born in waidmannsfeld lowe...  \n",
              "4  henry krvits born 30 december 1974 in tallinn ...  "
            ]
          },
          "metadata": {
            "tags": []
          },
          "execution_count": 4
        }
      ]
    },
    {
      "metadata": {
        "id": "aThY-j3xpUWl",
        "colab_type": "text"
      },
      "cell_type": "markdown",
      "source": [
        "우리는 URL은 안쓸꺼니까! 날려버리자.\n",
        "\n",
        "왜인지 URI로 되어 있다."
      ]
    },
    {
      "metadata": {
        "id": "gjWWFlpop2Pw",
        "colab_type": "code",
        "colab": {
          "base_uri": "https://localhost:8080/",
          "height": 34
        },
        "outputId": "494ad56a-5b44-427d-d82f-c5f5b591e7e4"
      },
      "cell_type": "code",
      "source": [
        "'name' in list(people)"
      ],
      "execution_count": 5,
      "outputs": [
        {
          "output_type": "execute_result",
          "data": {
            "text/plain": [
              "True"
            ]
          },
          "metadata": {
            "tags": []
          },
          "execution_count": 5
        }
      ]
    },
    {
      "metadata": {
        "id": "wCDUCtRGpW6d",
        "colab_type": "code",
        "colab": {
          "base_uri": "https://localhost:8080/",
          "height": 195
        },
        "outputId": "1846fdb8-fb58-43d6-b732-38627f9d73e4"
      },
      "cell_type": "code",
      "source": [
        "if 'URI' in list(people):\n",
        "    people.drop(labels=['URI'], axis=1, inplace=True)\n",
        "people.head()"
      ],
      "execution_count": 6,
      "outputs": [
        {
          "output_type": "execute_result",
          "data": {
            "text/html": [
              "<div>\n",
              "<style scoped>\n",
              "    .dataframe tbody tr th:only-of-type {\n",
              "        vertical-align: middle;\n",
              "    }\n",
              "\n",
              "    .dataframe tbody tr th {\n",
              "        vertical-align: top;\n",
              "    }\n",
              "\n",
              "    .dataframe thead th {\n",
              "        text-align: right;\n",
              "    }\n",
              "</style>\n",
              "<table border=\"1\" class=\"dataframe\">\n",
              "  <thead>\n",
              "    <tr style=\"text-align: right;\">\n",
              "      <th></th>\n",
              "      <th>name</th>\n",
              "      <th>text</th>\n",
              "    </tr>\n",
              "  </thead>\n",
              "  <tbody>\n",
              "    <tr>\n",
              "      <th>0</th>\n",
              "      <td>Digby Morrell</td>\n",
              "      <td>digby morrell born 10 october 1979 is a former...</td>\n",
              "    </tr>\n",
              "    <tr>\n",
              "      <th>1</th>\n",
              "      <td>Alfred J. Lewy</td>\n",
              "      <td>alfred j lewy aka sandy lewy graduated from un...</td>\n",
              "    </tr>\n",
              "    <tr>\n",
              "      <th>2</th>\n",
              "      <td>Harpdog Brown</td>\n",
              "      <td>harpdog brown is a singer and harmonica player...</td>\n",
              "    </tr>\n",
              "    <tr>\n",
              "      <th>3</th>\n",
              "      <td>Franz Rottensteiner</td>\n",
              "      <td>franz rottensteiner born in waidmannsfeld lowe...</td>\n",
              "    </tr>\n",
              "    <tr>\n",
              "      <th>4</th>\n",
              "      <td>G-Enka</td>\n",
              "      <td>henry krvits born 30 december 1974 in tallinn ...</td>\n",
              "    </tr>\n",
              "  </tbody>\n",
              "</table>\n",
              "</div>"
            ],
            "text/plain": [
              "                  name                                               text\n",
              "0        Digby Morrell  digby morrell born 10 october 1979 is a former...\n",
              "1       Alfred J. Lewy  alfred j lewy aka sandy lewy graduated from un...\n",
              "2        Harpdog Brown  harpdog brown is a singer and harmonica player...\n",
              "3  Franz Rottensteiner  franz rottensteiner born in waidmannsfeld lowe...\n",
              "4               G-Enka  henry krvits born 30 december 1974 in tallinn ..."
            ]
          },
          "metadata": {
            "tags": []
          },
          "execution_count": 6
        }
      ]
    },
    {
      "metadata": {
        "id": "zbwpz0ek8uw2",
        "colab_type": "text"
      },
      "cell_type": "markdown",
      "source": [
        "## Explore the dataset\n",
        "\n",
        "엘튼 존! 조지 클루니!"
      ]
    },
    {
      "metadata": {
        "id": "CurBFRz88uw2",
        "colab_type": "code",
        "colab": {
          "base_uri": "https://localhost:8080/",
          "height": 77
        },
        "outputId": "c7ce01e5-5e2a-4567-81e3-654465f42dfe"
      },
      "cell_type": "code",
      "source": [
        "elton = people.loc[people['name']=='Elton John']\n",
        "elton"
      ],
      "execution_count": 7,
      "outputs": [
        {
          "output_type": "execute_result",
          "data": {
            "text/html": [
              "<div>\n",
              "<style scoped>\n",
              "    .dataframe tbody tr th:only-of-type {\n",
              "        vertical-align: middle;\n",
              "    }\n",
              "\n",
              "    .dataframe tbody tr th {\n",
              "        vertical-align: top;\n",
              "    }\n",
              "\n",
              "    .dataframe thead th {\n",
              "        text-align: right;\n",
              "    }\n",
              "</style>\n",
              "<table border=\"1\" class=\"dataframe\">\n",
              "  <thead>\n",
              "    <tr style=\"text-align: right;\">\n",
              "      <th></th>\n",
              "      <th>name</th>\n",
              "      <th>text</th>\n",
              "    </tr>\n",
              "  </thead>\n",
              "  <tbody>\n",
              "    <tr>\n",
              "      <th>19923</th>\n",
              "      <td>Elton John</td>\n",
              "      <td>sir elton hercules john cbe born reginald kenn...</td>\n",
              "    </tr>\n",
              "  </tbody>\n",
              "</table>\n",
              "</div>"
            ],
            "text/plain": [
              "             name                                               text\n",
              "19923  Elton John  sir elton hercules john cbe born reginald kenn..."
            ]
          },
          "metadata": {
            "tags": []
          },
          "execution_count": 7
        }
      ]
    },
    {
      "metadata": {
        "id": "AvfKDw1q-Z9Z",
        "colab_type": "code",
        "colab": {
          "base_uri": "https://localhost:8080/",
          "height": 54
        },
        "outputId": "a210ea46-b2d8-40b2-dc06-54b5f6d09fd8"
      },
      "cell_type": "code",
      "source": [
        "list(elton['text'])"
      ],
      "execution_count": 8,
      "outputs": [
        {
          "output_type": "execute_result",
          "data": {
            "text/plain": [
              "['sir elton hercules john cbe born reginald kenneth dwight 25 march 1947 is an english singer songwriter composer pianist record producer and occasional actor he has worked with lyricist bernie taupin as his songwriter partner since 1967 they have collaborated on more than 30 albums to datein his fivedecade career elton john has sold more than 300 million records making him one of the bestselling music artists in the world he has more than fifty top 40 hits including seven consecutive no 1 us albums 58 billboard top 40 singles 27 top 10 four no 2 and nine no 1 for 31 consecutive years 19702000 he had at least one song in the billboard hot 100 his single something about the way you look tonightcandle in the wind 1997 sold over 33 million copies worldwide and is the bestselling single of all time he has received six grammy awards five brit awards winning two awards for outstanding contribution to music and the first brits icon in 2013 for his lasting impact on british culture an academy award a golden globe award a tony award a disney legend award and the kennedy center honors in 2004 in 2004 rolling stone ranked him number 49 on its list of 100 influential musicians of the rock and roll era in 2008 billboard ranked him the most successful male solo artist on the billboard hot 100 top alltime artists third overallelton john was inducted into the rock and roll hall of fame in 1994 is an inductee into the songwriters hall of fame and is a fellow of the british academy of songwriters composers and authors having been named a commander of the order of the british empire in 1996 john received a knighthood from elizabeth ii for services to music and charitable services in 1998 john has performed at a number of royal events such as the funeral of princess diana at westminster abbey in 1997 the party at the palace in 2002 and the queens diamond jubilee concert outside buckingham palace in 2012he has been heavily involved in the fight against aids since the late 1980s in 1992 he established the elton john aids foundation and a year later began hosting the annual academy award party which has since become one of the highestprofile oscar parties in the hollywood film industry since its inception the foundation has raised over 200 million john who announced he was bisexual in 1976 and has been openly gay since 1988 entered into a civil partnership with david furnish on 21 december 2005 and after gay marriage became legal in england wed furnish on 21 december 2014 he continues to be a champion for lgbt social movements worldwide and samesex marriage']"
            ]
          },
          "metadata": {
            "tags": []
          },
          "execution_count": 8
        }
      ]
    },
    {
      "metadata": {
        "id": "M001k8fU-gKE",
        "colab_type": "code",
        "colab": {
          "base_uri": "https://localhost:8080/",
          "height": 1108
        },
        "outputId": "8573b99f-2904-41ad-8656-51539c8fc8f7"
      },
      "cell_type": "code",
      "source": [
        "george = people.loc[people['name'].str.contains('George')]\n",
        "george['name']"
      ],
      "execution_count": 9,
      "outputs": [
        {
          "output_type": "execute_result",
          "data": {
            "text/plain": [
              "213                        George Brent Mickum IV\n",
              "586                          George Athan Billias\n",
              "977                            George M. Galambos\n",
              "1100                                  George Azar\n",
              "1323                                George Quasha\n",
              "1402                       George de la Pe%C3%B1a\n",
              "1418                                George E. Fox\n",
              "1524                                Willie George\n",
              "1710                                George Athans\n",
              "2486                             George Halvorson\n",
              "2654                               George Gabriel\n",
              "2657                              Billy Georgette\n",
              "2770                  George McMahon (politician)\n",
              "2969                              George Brancato\n",
              "3883                               George Kurdahi\n",
              "4904                      George Hart (physicist)\n",
              "5180                           George P. Fletcher\n",
              "5624                                  George Piro\n",
              "5918                             George P. Taylor\n",
              "5952                                  George Roll\n",
              "6345                                George Heller\n",
              "6517                               George O'Boyle\n",
              "6828                           George J. Mitchell\n",
              "7363                            George Mu%C3%B1oz\n",
              "7457                           George Poinar, Jr.\n",
              "7666                           Andrew George, Jr.\n",
              "7740                                 George Shire\n",
              "7937                                  Doug George\n",
              "8372                                  George Wang\n",
              "8412                              George Koskotas\n",
              "                           ...                   \n",
              "52459                                George Herms\n",
              "53012                              George McGavin\n",
              "53222                              George Shapiro\n",
              "53346                          George Ramsay Cook\n",
              "53742                                  Uwe George\n",
              "54091                                George Awada\n",
              "54182                                George Phang\n",
              "54242                        George W. Knight III\n",
              "54269                   George Seitz (politician)\n",
              "54452                           George H. W. Bush\n",
              "54506                    George Lyle (ice hockey)\n",
              "54542                             George Stonbely\n",
              "54598                  George Rose (rugby league)\n",
              "55051                              Noah Georgeson\n",
              "55341                      George T. Babbitt, Jr.\n",
              "55392                             Georgeann Wells\n",
              "55870                              George G. Hall\n",
              "55962                     George Weedon (gymnast)\n",
              "56184                               George Ibanez\n",
              "56361                              George Haffner\n",
              "56453                           George Greenamyer\n",
              "56692                  George Leslie (politician)\n",
              "56834                             George W. Grace\n",
              "57213        George Howard, 13th Earl of Carlisle\n",
              "57384                                Bruce George\n",
              "57512    George Little (New Brunswick politician)\n",
              "57624                                George Tobin\n",
              "57803                                George Reyes\n",
              "58529                            George McConnell\n",
              "59058                               George Krause\n",
              "Name: name, Length: 325, dtype: object"
            ]
          },
          "metadata": {
            "tags": []
          },
          "execution_count": 9
        }
      ]
    },
    {
      "metadata": {
        "id": "f5SHUO2b-oxE",
        "colab_type": "code",
        "colab": {
          "base_uri": "https://localhost:8080/",
          "height": 77
        },
        "outputId": "94eb8450-5934-4189-8d6d-f569c1700c9e"
      },
      "cell_type": "code",
      "source": [
        "clooney = george.loc[george['name'].str.contains('Clooney')]\n",
        "clooney"
      ],
      "execution_count": 10,
      "outputs": [
        {
          "output_type": "execute_result",
          "data": {
            "text/html": [
              "<div>\n",
              "<style scoped>\n",
              "    .dataframe tbody tr th:only-of-type {\n",
              "        vertical-align: middle;\n",
              "    }\n",
              "\n",
              "    .dataframe tbody tr th {\n",
              "        vertical-align: top;\n",
              "    }\n",
              "\n",
              "    .dataframe thead th {\n",
              "        text-align: right;\n",
              "    }\n",
              "</style>\n",
              "<table border=\"1\" class=\"dataframe\">\n",
              "  <thead>\n",
              "    <tr style=\"text-align: right;\">\n",
              "      <th></th>\n",
              "      <th>name</th>\n",
              "      <th>text</th>\n",
              "    </tr>\n",
              "  </thead>\n",
              "  <tbody>\n",
              "    <tr>\n",
              "      <th>38514</th>\n",
              "      <td>George Clooney</td>\n",
              "      <td>george timothy clooney born may 6 1961 is an a...</td>\n",
              "    </tr>\n",
              "  </tbody>\n",
              "</table>\n",
              "</div>"
            ],
            "text/plain": [
              "                 name                                               text\n",
              "38514  George Clooney  george timothy clooney born may 6 1961 is an a..."
            ]
          },
          "metadata": {
            "tags": []
          },
          "execution_count": 10
        }
      ]
    },
    {
      "metadata": {
        "id": "5-o9QRAJ_3-3",
        "colab_type": "code",
        "colab": {
          "base_uri": "https://localhost:8080/",
          "height": 54
        },
        "outputId": "81b0c1c4-ae9c-4a53-ff1b-8553d7abf567"
      },
      "cell_type": "code",
      "source": [
        "list(clooney['text'])"
      ],
      "execution_count": 11,
      "outputs": [
        {
          "output_type": "execute_result",
          "data": {
            "text/plain": [
              "['george timothy clooney born may 6 1961 is an american actor writer producer director and activist he has received three golden globe awards for his work as an actor and two academy awards one for acting and the other for producingclooney made his acting debut on television in 1978 and later gained wide recognition in his role as dr doug ross on the longrunning medical drama er from 1994 to 1999 for which he received two emmy award nominations while working on er he began attracting a variety of leading roles in films including the superhero film batman robin 1997 and the crime comedy out of sight 1998 in which he first worked with a director who would become a longtime collaborator steven soderbergh in 1999 clooney took the lead role in three kings a wellreceived war satire set during the gulf warin 2001 clooneys fame widened with the release of his biggest commercial success the heist comedy oceans eleven the first of the film trilogy a remake of the 1960 film with frank sinatra as danny ocean he made his directorial debut a year later with the biographical thriller confessions of a dangerous mind and has since directed the drama good night and good luck 2005 the sports comedy leatherheads 2008 the political drama the ides of march 2011 and the comedydrama war film the monuments men 2014he won an academy award for best supporting actor for the middle east thriller syriana 2005 and subsequently earned best actor nominations for the legal thriller michael clayton 2007 the comedydrama up in the air 2009 and the drama the descendants 2011 in 2013 he received the academy award for best picture for producing the political thriller argo alongside ben affleck and grant heslov he is the only person ever to be nominated for academy awards in six categoriesclooney is sometimes described as one of the most handsome men in the world in 2005 tv guide ranked clooney no 1 on its 50 sexiest stars of all time list in 2009 he was included in times annual time 100 as one of the most influential people in the world clooney is also noted for his political activism and has served as one of the united nations messengers of peace since january 31 2008 his humanitarian work includes his advocacy of finding a resolution for the darfur conflict raising funds for the 2010 haiti earthquake 2004 tsunami and 911 victims and creating documentaries such as sand and sorrow to raise awareness about international crises he is also a member of the council on foreign relations']"
            ]
          },
          "metadata": {
            "tags": []
          },
          "execution_count": 11
        }
      ]
    },
    {
      "metadata": {
        "id": "BYr1vtpd8uw4",
        "colab_type": "text"
      },
      "cell_type": "markdown",
      "source": [
        "## Bag of Words Simple ver\n",
        "\n",
        "텍스트 문서들은 있다.<br>\n",
        "\n",
        "텍스트들을 단어 등장여부를 이용한 binary vector로 만들자."
      ]
    },
    {
      "metadata": {
        "id": "C0NSQfKKEvTY",
        "colab_type": "code",
        "colab": {}
      },
      "cell_type": "code",
      "source": [
        "'''\n",
        "Library Loading\n",
        "'''\n",
        "from collections import Counter, OrderedDict\n",
        "import sklearn.feature_extraction.text as text"
      ],
      "execution_count": 0,
      "outputs": []
    },
    {
      "metadata": {
        "id": "MyC6Zw6kbChy",
        "colab_type": "text"
      },
      "cell_type": "markdown",
      "source": [
        "### 문장 하나를 사전으로 만들어 보자."
      ]
    },
    {
      "metadata": {
        "id": "htO9pyBmbSk-",
        "colab_type": "code",
        "colab": {}
      },
      "cell_type": "code",
      "source": [
        "def Ordered_words(id = 0):\n",
        "    sample_string = people['text'][id]\n",
        "    string_splitted = sample_string.split()\n",
        "    word_dict = dict(Counter(string_splitted))\n",
        "    word_dict_list = [(k,v) for k, v in word_dict.items()]\n",
        "    word_dict_list.sort(key = lambda x:x[1], reverse=True)\n",
        "    print('name : ',people['name'][id])\n",
        "    print(sample_string)\n",
        "    print(word_dict_list)\n",
        "    "
      ],
      "execution_count": 0,
      "outputs": []
    },
    {
      "metadata": {
        "id": "7VdkxbZwjp_5",
        "colab_type": "code",
        "colab": {
          "base_uri": "https://localhost:8080/",
          "height": 90
        },
        "outputId": "d83c6109-8159-4410-feec-c722e89dcd57"
      },
      "cell_type": "code",
      "source": [
        "'''\n",
        "Ordered_words(n)\n",
        "n 을 바꾸어 가며 확인해보자.\n",
        "'''\n",
        "\n",
        "Ordered_words(3)"
      ],
      "execution_count": 14,
      "outputs": [
        {
          "output_type": "stream",
          "text": [
            "name :  Franz Rottensteiner\n",
            "franz rottensteiner born in waidmannsfeld lower austria austria on 18 january 1942 is an austrian publisher and critic in the fields of science fiction and the fantasticrottensteiner studied journalism english and history at the university of vienna receiving his doctorate in 1969 he served about fifteen years as librarian and editor at the sterreichisches institut fr bauforschung in vienna in addition he produced a number of translations into german of leading sf authors including herbert w franke stanislaw lem philip k dick kobo abe cordwainer smith brian w aldiss and the strugatski brothersin 1973 his new york anthology view from another shore of european science fiction introduced a number of continental authors to the englishreading public some of the authors in the work are stanislaw lem josef nesvadba gerard klein and jeanpierre andrevonthe year 1975 saw the start of his series die phantastischen romane for seven years it republished works of both lesser and betterknown writers as well as new ones ending with a total of 28 volumes in the years 19791985 he brought out trnaslations of h g wellss works in an eighteen volumes seriesrottensteiner provoked some controversy with his negative assessment of american science fiction what matters is the highest achievements and there the us has yet to produce a figure comparable to hg wells olaf stapledon karel apek or stanisaw lem rottensteiner describedroger zelazny barry n malzberg and robert silverberg as producing travesties of fiction and stated asimov is a typical nonwriter and heinlein and andersonare just banal however rottensteiner praised philip k dick listing him as one of the greatest sf writers from 1980 through 1998 he was advisor for suhrkamp verlags phantastische bibliothek which brought out some three hundred books in all he has edited about fifty anthologies produced two illustrated books the science fiction book 1975 und the fantasy book 1978 as well as working on numerous reference works on science fiction his close association with and promotion of lem until 1995 was a factor in the recognition of the latter in the united statesrottensteiner has been the editor of quarber merkur the leading german language critical journal of science fiction since 1963 in 2004 on the occasion of the hundredth number of this journal he was awarded a special kurdlawitzpreis\n",
            "[('the', 22), ('of', 20), ('and', 13), ('in', 12), ('fiction', 7), ('as', 7), ('a', 7), ('science', 6), ('he', 6), ('his', 5), ('on', 4), ('lem', 4), ('rottensteiner', 3), ('is', 3), ('years', 3), ('number', 3), ('authors', 3), ('to', 3), ('some', 3), ('works', 3), ('with', 3), ('has', 3), ('was', 3), ('austria', 2), ('an', 2), ('at', 2), ('vienna', 2), ('about', 2), ('editor', 2), ('produced', 2), ('german', 2), ('leading', 2), ('sf', 2), ('w', 2), ('stanislaw', 2), ('philip', 2), ('k', 2), ('dick', 2), ('new', 2), ('from', 2), ('1975', 2), ('for', 2), ('writers', 2), ('well', 2), ('volumes', 2), ('brought', 2), ('out', 2), ('books', 2), ('book', 2), ('journal', 2), ('franz', 1), ('born', 1), ('waidmannsfeld', 1), ('lower', 1), ('18', 1), ('january', 1), ('1942', 1), ('austrian', 1), ('publisher', 1), ('critic', 1), ('fields', 1), ('fantasticrottensteiner', 1), ('studied', 1), ('journalism', 1), ('english', 1), ('history', 1), ('university', 1), ('receiving', 1), ('doctorate', 1), ('1969', 1), ('served', 1), ('fifteen', 1), ('librarian', 1), ('sterreichisches', 1), ('institut', 1), ('fr', 1), ('bauforschung', 1), ('addition', 1), ('translations', 1), ('into', 1), ('including', 1), ('herbert', 1), ('franke', 1), ('kobo', 1), ('abe', 1), ('cordwainer', 1), ('smith', 1), ('brian', 1), ('aldiss', 1), ('strugatski', 1), ('brothersin', 1), ('1973', 1), ('york', 1), ('anthology', 1), ('view', 1), ('another', 1), ('shore', 1), ('european', 1), ('introduced', 1), ('continental', 1), ('englishreading', 1), ('public', 1), ('work', 1), ('are', 1), ('josef', 1), ('nesvadba', 1), ('gerard', 1), ('klein', 1), ('jeanpierre', 1), ('andrevonthe', 1), ('year', 1), ('saw', 1), ('start', 1), ('series', 1), ('die', 1), ('phantastischen', 1), ('romane', 1), ('seven', 1), ('it', 1), ('republished', 1), ('both', 1), ('lesser', 1), ('betterknown', 1), ('ones', 1), ('ending', 1), ('total', 1), ('28', 1), ('19791985', 1), ('trnaslations', 1), ('h', 1), ('g', 1), ('wellss', 1), ('eighteen', 1), ('seriesrottensteiner', 1), ('provoked', 1), ('controversy', 1), ('negative', 1), ('assessment', 1), ('american', 1), ('what', 1), ('matters', 1), ('highest', 1), ('achievements', 1), ('there', 1), ('us', 1), ('yet', 1), ('produce', 1), ('figure', 1), ('comparable', 1), ('hg', 1), ('wells', 1), ('olaf', 1), ('stapledon', 1), ('karel', 1), ('apek', 1), ('or', 1), ('stanisaw', 1), ('describedroger', 1), ('zelazny', 1), ('barry', 1), ('n', 1), ('malzberg', 1), ('robert', 1), ('silverberg', 1), ('producing', 1), ('travesties', 1), ('stated', 1), ('asimov', 1), ('typical', 1), ('nonwriter', 1), ('heinlein', 1), ('andersonare', 1), ('just', 1), ('banal', 1), ('however', 1), ('praised', 1), ('listing', 1), ('him', 1), ('one', 1), ('greatest', 1), ('1980', 1), ('through', 1), ('1998', 1), ('advisor', 1), ('suhrkamp', 1), ('verlags', 1), ('phantastische', 1), ('bibliothek', 1), ('which', 1), ('three', 1), ('hundred', 1), ('all', 1), ('edited', 1), ('fifty', 1), ('anthologies', 1), ('two', 1), ('illustrated', 1), ('und', 1), ('fantasy', 1), ('1978', 1), ('working', 1), ('numerous', 1), ('reference', 1), ('close', 1), ('association', 1), ('promotion', 1), ('until', 1), ('1995', 1), ('factor', 1), ('recognition', 1), ('latter', 1), ('united', 1), ('statesrottensteiner', 1), ('been', 1), ('quarber', 1), ('merkur', 1), ('language', 1), ('critical', 1), ('since', 1), ('1963', 1), ('2004', 1), ('occasion', 1), ('hundredth', 1), ('this', 1), ('awarded', 1), ('special', 1), ('kurdlawitzpreis', 1)]\n"
          ],
          "name": "stdout"
        }
      ]
    },
    {
      "metadata": {
        "id": "FQSEn4HoksYK",
        "colab_type": "text"
      },
      "cell_type": "markdown",
      "source": [
        "### 모든 텍스트를 이용하여, 존재하는 단어들의 사전을 만들어 보자!"
      ]
    },
    {
      "metadata": {
        "id": "56ULjyIjGV6q",
        "colab_type": "code",
        "colab": {}
      },
      "cell_type": "code",
      "source": [
        "word_bin = text.CountVectorizer(binary = True)"
      ],
      "execution_count": 0,
      "outputs": []
    },
    {
      "metadata": {
        "id": "Gk7TaVhouv-V",
        "colab_type": "code",
        "colab": {}
      },
      "cell_type": "code",
      "source": [
        "X = word_bin.fit_transform(people['text'])"
      ],
      "execution_count": 0,
      "outputs": []
    },
    {
      "metadata": {
        "id": "wCDF4JDdKTaw",
        "colab_type": "code",
        "colab": {
          "base_uri": "https://localhost:8080/",
          "height": 34
        },
        "outputId": "97192ae2-1e8a-4690-9c34-d27a9c2d5e03"
      },
      "cell_type": "code",
      "source": [
        "type(X)"
      ],
      "execution_count": 27,
      "outputs": [
        {
          "output_type": "execute_result",
          "data": {
            "text/plain": [
              "scipy.sparse.csr.csr_matrix"
            ]
          },
          "metadata": {
            "tags": []
          },
          "execution_count": 27
        }
      ]
    },
    {
      "metadata": {
        "id": "guQ9cbn6LxGP",
        "colab_type": "code",
        "colab": {}
      },
      "cell_type": "code",
      "source": [
        "print(len(word_bin.vocabulary_))\n",
        "word_bin.vocabulary_"
      ],
      "execution_count": 0,
      "outputs": []
    },
    {
      "metadata": {
        "id": "M6NKPUn-obi1",
        "colab_type": "text"
      },
      "cell_type": "markdown",
      "source": [
        "### 문장 하나를 벡터로 만들어 보자!\n",
        "\n",
        " 모든 문장을 이용하여 단어 사전을 만들어 두었다!\n",
        " \n",
        " 이제, 문장 하나를 단어 존재 여부를 이용하여 벡터로 만들 수 있다."
      ]
    },
    {
      "metadata": {
        "id": "pIqN6ZM-Kena",
        "colab_type": "code",
        "colab": {}
      },
      "cell_type": "code",
      "source": [
        "def simple_BOW_vector(id=0):\n",
        "    sample_array = word_bin.transform([people['text'][id]]).toarray()[0]\n",
        "    print('array 사이즈 : ', len(sample_array))\n",
        "    print('등장한 단어의 개수 : ', sum(sample_array==1))\n",
        "    print(sample_array)"
      ],
      "execution_count": 0,
      "outputs": []
    },
    {
      "metadata": {
        "id": "W3SJMkYsoQOE",
        "colab_type": "code",
        "colab": {
          "base_uri": "https://localhost:8080/",
          "height": 70
        },
        "outputId": "dcda5144-b196-4135-a8e2-94780d89fabd"
      },
      "cell_type": "code",
      "source": [
        "simple_BOW_vector(4)"
      ],
      "execution_count": 30,
      "outputs": [
        {
          "output_type": "stream",
          "text": [
            "array 사이즈 :  548429\n",
            "등장한 단어의 개수 :  113\n",
            "[0 0 0 ... 0 0 0]\n"
          ],
          "name": "stdout"
        }
      ]
    },
    {
      "metadata": {
        "id": "fl5MriiYnw-C",
        "colab_type": "text"
      },
      "cell_type": "markdown",
      "source": [
        "### 문장들을 벡터로 만들어서 데이터 프레임에 붙일 수 있을까?\n",
        "\n",
        "정말 궁금한 사람들은 아래의 코드를 실행해보자.\n",
        "\n",
        "메모리가 터지는 것을 관찰할 수 있다!\n",
        "\n",
        "```\n",
        "word_bin.transform(people['text'].toarray())\n",
        "```\n",
        "\n",
        "위에서 아래와 같은 코드를 사용했었다.\n",
        "\n",
        "```\n",
        "X = word_bin.fit_transform(people['text'])\n",
        "```\n",
        "\n",
        "X는 scipy.sparse.csr.csr_matrix 라고 위에서 확인했었는데,  사실 X가 우리가 원하는 그 메트릭스다!\n",
        "\n",
        "다만, 사이즈가 54만이 넘어가는 벡터에서 고작 단어 몇백개의 위치만 1이 되는 array를 그대로 생성하는 것은 메모리가 괴로워하기 때문에, 우리는 잘 압축된 메트릭스를 대신하여 사용한다.\n",
        "\n",
        "아래의 셀을 실행해보면 어떻게 된 것인지 감을 잡을 수 있다!"
      ]
    },
    {
      "metadata": {
        "id": "Gnfni16M3q-g",
        "colab_type": "code",
        "colab": {}
      },
      "cell_type": "code",
      "source": [
        "print(X[0,:])"
      ],
      "execution_count": 0,
      "outputs": []
    },
    {
      "metadata": {
        "id": "0WP7NkCwr0F9",
        "colab_type": "code",
        "colab": {
          "base_uri": "https://localhost:8080/",
          "height": 106
        },
        "outputId": "2fae3fd1-4831-46ed-ca5e-49a17bee63e8"
      },
      "cell_type": "code",
      "source": [
        "people.loc[0:1]"
      ],
      "execution_count": 41,
      "outputs": [
        {
          "output_type": "execute_result",
          "data": {
            "text/html": [
              "<div>\n",
              "<style scoped>\n",
              "    .dataframe tbody tr th:only-of-type {\n",
              "        vertical-align: middle;\n",
              "    }\n",
              "\n",
              "    .dataframe tbody tr th {\n",
              "        vertical-align: top;\n",
              "    }\n",
              "\n",
              "    .dataframe thead th {\n",
              "        text-align: right;\n",
              "    }\n",
              "</style>\n",
              "<table border=\"1\" class=\"dataframe\">\n",
              "  <thead>\n",
              "    <tr style=\"text-align: right;\">\n",
              "      <th></th>\n",
              "      <th>name</th>\n",
              "      <th>text</th>\n",
              "    </tr>\n",
              "  </thead>\n",
              "  <tbody>\n",
              "    <tr>\n",
              "      <th>0</th>\n",
              "      <td>Digby Morrell</td>\n",
              "      <td>digby morrell born 10 october 1979 is a former...</td>\n",
              "    </tr>\n",
              "    <tr>\n",
              "      <th>1</th>\n",
              "      <td>Alfred J. Lewy</td>\n",
              "      <td>alfred j lewy aka sandy lewy graduated from un...</td>\n",
              "    </tr>\n",
              "  </tbody>\n",
              "</table>\n",
              "</div>"
            ],
            "text/plain": [
              "             name                                               text\n",
              "0   Digby Morrell  digby morrell born 10 october 1979 is a former...\n",
              "1  Alfred J. Lewy  alfred j lewy aka sandy lewy graduated from un..."
            ]
          },
          "metadata": {
            "tags": []
          },
          "execution_count": 41
        }
      ]
    }
  ]
}